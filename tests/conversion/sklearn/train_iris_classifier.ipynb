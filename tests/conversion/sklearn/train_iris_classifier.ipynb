{
 "cells": [
  {
   "cell_type": "code",
   "execution_count": 4,
   "id": "de0b5ea7-1a95-470a-ba65-68a451d29f77",
   "metadata": {},
   "outputs": [
    {
     "name": "stdout",
     "output_type": "stream",
     "text": [
      "Requirement already satisfied: scikit-learn in /opt/conda/lib/python3.9/site-packages (1.0.2)\n",
      "Requirement already satisfied: numpy>=1.14.6 in /opt/conda/lib/python3.9/site-packages (from scikit-learn) (1.21.4)\n",
      "Requirement already satisfied: scipy>=1.1.0 in /opt/conda/lib/python3.9/site-packages (from scikit-learn) (1.7.3)\n",
      "Requirement already satisfied: threadpoolctl>=2.0.0 in /opt/conda/lib/python3.9/site-packages (from scikit-learn) (3.1.0)\n",
      "Requirement already satisfied: joblib>=0.11 in /opt/conda/lib/python3.9/site-packages (from scikit-learn) (1.1.0)\n"
     ]
    }
   ],
   "source": [
    "!pip install scikit-learn"
   ]
  },
  {
   "cell_type": "code",
   "execution_count": 5,
   "id": "343f3164-22bf-40f6-8662-3529ba75befc",
   "metadata": {},
   "outputs": [],
   "source": [
    "import sklearn\n",
    "from sklearn.datasets import load_iris\n",
    "import sklearn.tree\n",
    "import pickle"
   ]
  },
  {
   "cell_type": "code",
   "execution_count": 6,
   "id": "cf3255da-1418-4bf7-a7af-e11985b7fb2d",
   "metadata": {},
   "outputs": [],
   "source": [
    "def train_iris_classifier():\n",
    "    iris = load_iris()\n",
    "    classifier = sklearn.tree.DecisionTreeClassifier()\n",
    "    classifier = classifier.fit(iris.data, iris.target)\n",
    "    return classifier\n",
    "\n",
    "def main():\n",
    "    classifier = train_iris_classifier()\n",
    "    with open('iris_classifier.pkl', 'wb') as f:\n",
    "        pickle.dump(classifier, f)"
   ]
  },
  {
   "cell_type": "code",
   "execution_count": 7,
   "id": "c0883bcb-989f-49c8-a535-fb9d414b8019",
   "metadata": {},
   "outputs": [],
   "source": [
    "main()"
   ]
  }
 ],
 "metadata": {
  "kernelspec": {
   "display_name": "Python 3 (ipykernel)",
   "language": "python",
   "name": "python3"
  },
  "language_info": {
   "codemirror_mode": {
    "name": "ipython",
    "version": 3
   },
   "file_extension": ".py",
   "mimetype": "text/x-python",
   "name": "python",
   "nbconvert_exporter": "python",
   "pygments_lexer": "ipython3",
   "version": "3.9.7"
  }
 },
 "nbformat": 4,
 "nbformat_minor": 5
}
