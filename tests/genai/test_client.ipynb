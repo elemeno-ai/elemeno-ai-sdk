{
 "cells": [
  {
   "attachments": {},
   "cell_type": "markdown",
   "metadata": {},
   "source": [
    "# GenAIClient"
   ]
  },
  {
   "cell_type": "code",
   "execution_count": 1,
   "metadata": {},
   "outputs": [],
   "source": [
    "import os\n",
    "import sys\n",
    "\n",
    "while '.gitignore' not in os.listdir():\n",
    "    os.chdir('..')\n",
    "\n",
    "sys.path[0] = os.path.join(os.getcwd(), 'src')"
   ]
  },
  {
   "cell_type": "code",
   "execution_count": 76,
   "metadata": {},
   "outputs": [],
   "source": [
    "from elemeno_ai_sdk.genai.client import client as genclient"
   ]
  },
  {
   "cell_type": "code",
   "execution_count": 92,
   "metadata": {},
   "outputs": [
    {
     "data": {
      "text/plain": [
       "<module 'elemeno_ai_sdk.genai.client.client' from '/home/stix/stix/12_ml_hub_sdk/sdk_branch_main/src/elemeno_ai_sdk/genai/client/client.py'>"
      ]
     },
     "execution_count": 92,
     "metadata": {},
     "output_type": "execute_result"
    }
   ],
   "source": [
    "from importlib import reload\n",
    "reload(genclient)"
   ]
  },
  {
   "cell_type": "code",
   "execution_count": 78,
   "metadata": {},
   "outputs": [],
   "source": [
    "API_KEY = \"ADD YOUR API KEY HERE\""
   ]
  },
  {
   "cell_type": "code",
   "execution_count": 93,
   "metadata": {},
   "outputs": [],
   "source": [
    "client = genclient.GenAIClient(env='prod', api_key=API_KEY)"
   ]
  },
  {
   "attachments": {},
   "cell_type": "markdown",
   "metadata": {},
   "source": [
    "## List Supported Models"
   ]
  },
  {
   "cell_type": "code",
   "execution_count": 7,
   "metadata": {},
   "outputs": [],
   "source": [
    "models = client.list_supported_models()"
   ]
  },
  {
   "cell_type": "code",
   "execution_count": 8,
   "metadata": {},
   "outputs": [
    {
     "data": {
      "text/plain": [
       "{'resources': [{'id': 'stable-diffusion',\n",
       "   'githubURI': 'https://github.com/XavierXiao/Dreambooth-Stable-Diffusion.git',\n",
       "   'modelName': 'Stable Diffusion',\n",
       "   'ptWeights': [{'name': 'v1-5-pruned.ckpt',\n",
       "     'path': 's3://elemeno-cos/models/genai/stable-diffusion/runwayml-stable-diffusion-v1-5/v1-5-pruned-emaonly.ckpt',\n",
       "     'supportedFineTuneMethods': ['dreambooth']}],\n",
       "   'license': {'type': 'CreativeML Open RAIL M',\n",
       "    'link': 'https://github.com/CompVis/stable-diffusion/blob/main/LICENSE'}},\n",
       "  {'id': 'alpaca-lora',\n",
       "   'githubURI': 'https://github.com/tloen/alpaca-lora',\n",
       "   'modelName': 'Alpaca Lora',\n",
       "   'ptWeights': [{'name': 'Llama-7b',\n",
       "     'path': 's3://elemeno-cos/alpaca-finetune-test/pytorch_model.bin',\n",
       "     'supportedFineTuneMethods': ['lora']}],\n",
       "   'license': {'type': 'Apache License',\n",
       "    'link': 'https://huggingface.co/huggyllama/llama-7b/blob/main/LICENSE'}},\n",
       "  {'id': 'llama',\n",
       "   'githubURI': 'https://github.com/tloen/alpaca-lora',\n",
       "   'modelName': 'Llama V2',\n",
       "   'ptWeights': [{'name': 'Llama-2-7b-chat-hf',\n",
       "     'path': 's3://elemeno-cos/models/genai/llama-v2/llama-2-7b-chat-hf/models_hf/7B/pytorch_model-00001-of-00002.bin',\n",
       "     'supportedFineTuneMethods': ['lora']}],\n",
       "   'license': {'type': 'Apache License',\n",
       "    'link': 'https://huggingface.co/huggyllama/llama-7b/blob/main/LICENSE'}}]}"
      ]
     },
     "execution_count": 8,
     "metadata": {},
     "output_type": "execute_result"
    }
   ],
   "source": [
    "models"
   ]
  },
  {
   "attachments": {},
   "cell_type": "markdown",
   "metadata": {},
   "source": [
    "## List projects"
   ]
  },
  {
   "cell_type": "code",
   "execution_count": 81,
   "metadata": {},
   "outputs": [],
   "source": [
    "projects = client.list_user_projects()"
   ]
  },
  {
   "cell_type": "code",
   "execution_count": 82,
   "metadata": {},
   "outputs": [
    {
     "data": {
      "text/plain": [
       "{'resources': [{'id': '6517080eeb094d57a99eed36',\n",
       "   'name': 'vision',\n",
       "   'modelId': 'stable-diffusion',\n",
       "   'createdAt': '2023-09-29T17:23:26.428Z',\n",
       "   'lastUsed': '2023-09-29T17:23:26.428Z'},\n",
       "  {'id': '650022ebc818a7a417ea3f72',\n",
       "   'name': '01_getting_start',\n",
       "   'modelId': 'llama',\n",
       "   'createdAt': '2023-09-12T08:35:54.975Z',\n",
       "   'lastUsed': '2023-09-12T08:35:54.975Z'}],\n",
       " 'pageable': {'limit': 10}}"
      ]
     },
     "execution_count": 82,
     "metadata": {},
     "output_type": "execute_result"
    }
   ],
   "source": [
    "projects"
   ]
  },
  {
   "attachments": {},
   "cell_type": "markdown",
   "metadata": {},
   "source": [
    "## Create Project"
   ]
  },
  {
   "cell_type": "code",
   "execution_count": null,
   "metadata": {},
   "outputs": [],
   "source": [
    "model_id = models['resources'][1]['id']"
   ]
  },
  {
   "cell_type": "code",
   "execution_count": null,
   "metadata": {},
   "outputs": [],
   "source": [
    "model_id"
   ]
  },
  {
   "cell_type": "code",
   "execution_count": null,
   "metadata": {},
   "outputs": [],
   "source": [
    "client.create_user_project(model_id=model_id, project_name='new_project3')"
   ]
  },
  {
   "cell_type": "code",
   "execution_count": null,
   "metadata": {},
   "outputs": [],
   "source": [
    "projects = client.list_user_projects()"
   ]
  },
  {
   "cell_type": "code",
   "execution_count": null,
   "metadata": {},
   "outputs": [],
   "source": [
    "projects"
   ]
  },
  {
   "attachments": {},
   "cell_type": "markdown",
   "metadata": {},
   "source": [
    "## Delete Project"
   ]
  },
  {
   "cell_type": "code",
   "execution_count": null,
   "metadata": {},
   "outputs": [],
   "source": [
    "project_id = projects['resources'][0]['id']"
   ]
  },
  {
   "cell_type": "code",
   "execution_count": null,
   "metadata": {},
   "outputs": [],
   "source": [
    "client.delete_project(project_id)"
   ]
  },
  {
   "cell_type": "code",
   "execution_count": null,
   "metadata": {},
   "outputs": [],
   "source": [
    "projects = client.list_user_projects()"
   ]
  },
  {
   "cell_type": "code",
   "execution_count": null,
   "metadata": {},
   "outputs": [],
   "source": [
    "projects"
   ]
  },
  {
   "attachments": {},
   "cell_type": "markdown",
   "metadata": {},
   "source": [
    "## List Project Deploys"
   ]
  },
  {
   "cell_type": "code",
   "execution_count": 10,
   "metadata": {},
   "outputs": [],
   "source": [
    "project_id = projects['resources'][0]['id']"
   ]
  },
  {
   "cell_type": "code",
   "execution_count": 11,
   "metadata": {},
   "outputs": [],
   "source": [
    "deployments = client.list_project_deployments(project_id)"
   ]
  },
  {
   "cell_type": "code",
   "execution_count": 12,
   "metadata": {},
   "outputs": [
    {
     "data": {
      "text/plain": [
       "{'resources': [{'id': '6515df46eb094d57a99eed2d',\n",
       "   'projectId': '650022ebc818a7a417ea3f72',\n",
       "   'modelId': '',\n",
       "   'name': 'new_deploy',\n",
       "   'account': 'luiz.fernando@semantix.ai',\n",
       "   'serviceUrl': '',\n",
       "   'checkpointPath': 's3://elemeno-cos/models/genai/llama-v2/llama-2-7b-chat-hf/models_hf/7B/pytorch_model-00001-of-00002.bin',\n",
       "   'runID': '',\n",
       "   'createdAt': '2023-09-28T20:17:10.865Z',\n",
       "   'updatedAt': '2023-09-28T20:17:10.865Z'},\n",
       "  {'id': '6512dff8eb094d57a99eece8',\n",
       "   'projectId': '650022ebc818a7a417ea3f72',\n",
       "   'modelId': '',\n",
       "   'name': 'new_deploy3',\n",
       "   'account': 'luiz.fernando@semantix.ai',\n",
       "   'serviceUrl': '',\n",
       "   'checkpointPath': 's3://elemeno-cos/models/genai/llama-v2/llama-2-7b-chat-hf/models_hf/7B/pytorch_model-00001-of-00002.bin',\n",
       "   'runID': '',\n",
       "   'createdAt': '2023-09-26T13:43:20.965Z',\n",
       "   'updatedAt': '2023-09-26T13:43:20.965Z'},\n",
       "  {'id': '6512deb4eb094d57a99eece5',\n",
       "   'projectId': '650022ebc818a7a417ea3f72',\n",
       "   'modelId': '',\n",
       "   'name': 'new_deploy2',\n",
       "   'account': 'luiz.fernando@semantix.ai',\n",
       "   'serviceUrl': '',\n",
       "   'checkpointPath': 's3://elemeno-cos/models/genai/llama-v2/llama-2-7b-chat-hf/models_hf/7B/pytorch_model-00001-of-00002.bin',\n",
       "   'runID': '',\n",
       "   'createdAt': '2023-09-26T13:37:56.58Z',\n",
       "   'updatedAt': '2023-09-26T13:37:56.58Z'},\n",
       "  {'id': '6512dc7aeb094d57a99eece4',\n",
       "   'projectId': '650022ebc818a7a417ea3f72',\n",
       "   'modelId': '',\n",
       "   'name': 'deploy',\n",
       "   'account': 'luiz.fernando@semantix.ai',\n",
       "   'serviceUrl': '',\n",
       "   'checkpointPath': 's3://elemeno-cos/models/genai/llama-v2/llama-2-7b-chat-hf/models_hf/7B/pytorch_model-00001-of-00002.bin',\n",
       "   'runID': '',\n",
       "   'createdAt': '2023-09-26T13:28:26.862Z',\n",
       "   'updatedAt': '2023-09-26T13:28:26.862Z'},\n",
       "  {'id': '6509f511c818a7a417ea3f94',\n",
       "   'projectId': '650022ebc818a7a417ea3f72',\n",
       "   'modelId': '',\n",
       "   'name': 'segundo',\n",
       "   'account': 'luiz.fernando@semantix.ai',\n",
       "   'serviceUrl': '',\n",
       "   'checkpointPath': 's3://mlflow/1757/f5a06b467b5a498485f31bedc6a7a52b/artifacts/model.ckpt',\n",
       "   'runID': '',\n",
       "   'createdAt': '2023-09-19T19:22:57.796Z',\n",
       "   'updatedAt': '2023-09-19T19:22:57.796Z'},\n",
       "  {'id': '6509f4fbc818a7a417ea3f93',\n",
       "   'projectId': '650022ebc818a7a417ea3f72',\n",
       "   'modelId': '',\n",
       "   'name': 'primeiro',\n",
       "   'account': 'luiz.fernando@semantix.ai',\n",
       "   'serviceUrl': '',\n",
       "   'checkpointPath': 's3://elemeno-cos/models/genai/llama-v2/llama-2-7b-chat-hf/models_hf/7B/pytorch_model-00001-of-00002.bin',\n",
       "   'runID': '',\n",
       "   'createdAt': '2023-09-19T19:22:35.933Z',\n",
       "   'updatedAt': '2023-09-19T19:22:35.933Z'}]}"
      ]
     },
     "execution_count": 12,
     "metadata": {},
     "output_type": "execute_result"
    }
   ],
   "source": [
    "deployments"
   ]
  },
  {
   "attachments": {},
   "cell_type": "markdown",
   "metadata": {},
   "source": [
    "## Create deploy"
   ]
  },
  {
   "cell_type": "code",
   "execution_count": 64,
   "metadata": {},
   "outputs": [],
   "source": [
    "project_id = projects['resources'][0]['id']"
   ]
  },
  {
   "cell_type": "code",
   "execution_count": 69,
   "metadata": {},
   "outputs": [],
   "source": [
    "client.deploy(\n",
    "    project_id=project_id,\n",
    "    deploy_name='new_deploy3'   \n",
    ")"
   ]
  },
  {
   "cell_type": "code",
   "execution_count": null,
   "metadata": {},
   "outputs": [],
   "source": [
    "deployments = client.list_project_deployments(project_id)"
   ]
  },
  {
   "cell_type": "code",
   "execution_count": null,
   "metadata": {},
   "outputs": [],
   "source": [
    "deployments"
   ]
  },
  {
   "attachments": {},
   "cell_type": "markdown",
   "metadata": {},
   "source": [
    "## Playground"
   ]
  },
  {
   "cell_type": "code",
   "execution_count": null,
   "metadata": {},
   "outputs": [],
   "source": [
    "deploy_id = deployments['resources'][0]['id']"
   ]
  },
  {
   "cell_type": "code",
   "execution_count": null,
   "metadata": {},
   "outputs": [],
   "source": [
    "deploy_id"
   ]
  },
  {
   "cell_type": "code",
   "execution_count": null,
   "metadata": {},
   "outputs": [],
   "source": [
    "client.model_playground(deploy_id=deploy_id, prompt=\"Who is the USA's president?\")"
   ]
  },
  {
   "attachments": {},
   "cell_type": "markdown",
   "metadata": {},
   "source": [
    "## List Fine tunnings"
   ]
  },
  {
   "cell_type": "code",
   "execution_count": 73,
   "metadata": {},
   "outputs": [],
   "source": [
    "project_id = projects['resources'][0]['id']"
   ]
  },
  {
   "cell_type": "code",
   "execution_count": 74,
   "metadata": {},
   "outputs": [],
   "source": [
    "fine_tunes = client.list_project_fine_tunes(project_id)"
   ]
  },
  {
   "cell_type": "code",
   "execution_count": 75,
   "metadata": {},
   "outputs": [
    {
     "data": {
      "text/plain": [
       "{'resources': [{'id': '6517132feb094d57a99eed3e',\n",
       "   'projectId': '650022ebc818a7a417ea3f72',\n",
       "   'runID': '9f318f05c71f4bdb85d1572207f1699d',\n",
       "   'artifactURI': 's3://mlflow/1757/9f318f05c71f4bdb85d1572207f1699d/artifacts',\n",
       "   'methodName': 'lora',\n",
       "   'status': 'RUNNING',\n",
       "   'experimentId': '1757',\n",
       "   'createdAt': '2023-09-29T18:10:55.959Z'},\n",
       "  {'id': '651712aceb094d57a99eed3d',\n",
       "   'projectId': '650022ebc818a7a417ea3f72',\n",
       "   'methodName': 'lora',\n",
       "   'status': 'PENDING',\n",
       "   'experimentId': '1757',\n",
       "   'createdAt': '2023-09-29T18:08:44.526Z'},\n",
       "  {'id': '651710c8eb094d57a99eed3c',\n",
       "   'projectId': '650022ebc818a7a417ea3f72',\n",
       "   'runID': '1469eb26cfa347d988495666b39605f0',\n",
       "   'artifactURI': 's3://mlflow/1757/1469eb26cfa347d988495666b39605f0/artifacts',\n",
       "   'methodName': 'lora',\n",
       "   'status': 'RUNNING',\n",
       "   'experimentId': '1757',\n",
       "   'createdAt': '2023-09-29T18:00:40.982Z'},\n",
       "  {'id': '6517103aeb094d57a99eed3b',\n",
       "   'projectId': '650022ebc818a7a417ea3f72',\n",
       "   'methodName': 'lora',\n",
       "   'status': 'PENDING',\n",
       "   'experimentId': '1757',\n",
       "   'createdAt': '2023-09-29T17:58:18.596Z'},\n",
       "  {'id': '65170fc2eb094d57a99eed3a',\n",
       "   'projectId': '650022ebc818a7a417ea3f72',\n",
       "   'runID': 'bea109b293504ce38aa64ca890042c87',\n",
       "   'artifactURI': 's3://mlflow/1757/bea109b293504ce38aa64ca890042c87/artifacts',\n",
       "   'methodName': 'lora',\n",
       "   'status': 'RUNNING',\n",
       "   'experimentId': '1757',\n",
       "   'createdAt': '2023-09-29T17:56:18.138Z'},\n",
       "  {'id': '65170f2ceb094d57a99eed39',\n",
       "   'projectId': '650022ebc818a7a417ea3f72',\n",
       "   'runID': '9709236bdf424dc6b730c62021a1a599',\n",
       "   'artifactURI': 's3://mlflow/1757/9709236bdf424dc6b730c62021a1a599/artifacts',\n",
       "   'methodName': 'lora',\n",
       "   'status': 'RUNNING',\n",
       "   'experimentId': '1757',\n",
       "   'createdAt': '2023-09-29T17:53:48.987Z'},\n",
       "  {'id': '65170723eb094d57a99eed35',\n",
       "   'projectId': '650022ebc818a7a417ea3f72',\n",
       "   'runID': '4ae134f9f0c6455996a01682edbeaed2',\n",
       "   'artifactURI': 's3://mlflow/1757/4ae134f9f0c6455996a01682edbeaed2/artifacts',\n",
       "   'methodName': 'lora',\n",
       "   'status': 'RUNNING',\n",
       "   'experimentId': '1757',\n",
       "   'createdAt': '2023-09-29T17:19:31.819Z'},\n",
       "  {'id': '65170451eb094d57a99eed34',\n",
       "   'projectId': '650022ebc818a7a417ea3f72',\n",
       "   'runID': 'c12f22d4cc7c435ab45be5a208d17a95',\n",
       "   'artifactURI': 's3://mlflow/1757/c12f22d4cc7c435ab45be5a208d17a95/artifacts',\n",
       "   'methodName': 'lora',\n",
       "   'status': 'RUNNING',\n",
       "   'experimentId': '1757',\n",
       "   'createdAt': '2023-09-29T17:07:29.769Z'},\n",
       "  {'id': '65086f4bc818a7a417ea3f82',\n",
       "   'projectId': '650022ebc818a7a417ea3f72',\n",
       "   'runID': 'f5a06b467b5a498485f31bedc6a7a52b',\n",
       "   'artifactURI': 's3://mlflow/1757/f5a06b467b5a498485f31bedc6a7a52b/artifacts',\n",
       "   'methodName': 'lora',\n",
       "   'status': 'FINISHED',\n",
       "   'experimentId': '1757',\n",
       "   'createdAt': '2023-09-18T15:39:55.375Z'},\n",
       "  {'id': '6500677ec818a7a417ea3f74',\n",
       "   'projectId': '650022ebc818a7a417ea3f72',\n",
       "   'runID': '649e26b1111a4c8d89b12feaf62c714b',\n",
       "   'artifactURI': 's3://mlflow/1757/649e26b1111a4c8d89b12feaf62c714b/artifacts',\n",
       "   'methodName': 'lora',\n",
       "   'status': 'FINISHED',\n",
       "   'experimentId': '1757',\n",
       "   'createdAt': '2023-09-12T13:28:30.243Z'}],\n",
       " 'result': {'total': 11}}"
      ]
     },
     "execution_count": 75,
     "metadata": {},
     "output_type": "execute_result"
    }
   ],
   "source": [
    "fine_tunes"
   ]
  },
  {
   "attachments": {},
   "cell_type": "markdown",
   "metadata": {},
   "source": [
    "## Create Fine Tuning Lora"
   ]
  },
  {
   "cell_type": "code",
   "execution_count": 13,
   "metadata": {},
   "outputs": [
    {
     "data": {
      "text/plain": [
       "True"
      ]
     },
     "execution_count": 13,
     "metadata": {},
     "output_type": "execute_result"
    }
   ],
   "source": [
    "filepath = 'tests/genai/dev/gsm8k_formatted.json'\n",
    "os.path.exists(filepath)"
   ]
  },
  {
   "cell_type": "code",
   "execution_count": 17,
   "metadata": {},
   "outputs": [],
   "source": [
    "project_id = projects['resources'][1]['id']"
   ]
  },
  {
   "cell_type": "code",
   "execution_count": 16,
   "metadata": {},
   "outputs": [],
   "source": [
    "model_cos_file = models['resources'][2]['ptWeights'][0]['path']"
   ]
  },
  {
   "cell_type": "code",
   "execution_count": 18,
   "metadata": {},
   "outputs": [
    {
     "data": {
      "text/plain": [
       "'s3://elemeno-cos/models/genai/llama-v2/llama-2-7b-chat-hf/models_hf/7B/pytorch_model-00001-of-00002.bin'"
      ]
     },
     "execution_count": 18,
     "metadata": {},
     "output_type": "execute_result"
    }
   ],
   "source": [
    "model_cos_file"
   ]
  },
  {
   "cell_type": "code",
   "execution_count": 38,
   "metadata": {},
   "outputs": [
    {
     "data": {
      "text/plain": [
       "'lora-65170723eb094d57a99eed35'"
      ]
     },
     "execution_count": 38,
     "metadata": {},
     "output_type": "execute_result"
    }
   ],
   "source": [
    "client.fine_tune_lora(\n",
    "    project_id=project_id,\n",
    "    dataset_path=filepath,\n",
    "    model_cos_file=model_cos_file\n",
    ")"
   ]
  },
  {
   "attachments": {},
   "cell_type": "markdown",
   "metadata": {},
   "source": [
    "## Fine Tunning Dreambooth"
   ]
  },
  {
   "cell_type": "code",
   "execution_count": 84,
   "metadata": {},
   "outputs": [
    {
     "data": {
      "text/plain": [
       "{'id': '6517080eeb094d57a99eed36',\n",
       " 'name': 'vision',\n",
       " 'modelId': 'stable-diffusion',\n",
       " 'createdAt': '2023-09-29T17:23:26.428Z',\n",
       " 'lastUsed': '2023-09-29T17:23:26.428Z'}"
      ]
     },
     "execution_count": 84,
     "metadata": {},
     "output_type": "execute_result"
    }
   ],
   "source": [
    "projects['resources'][0]"
   ]
  },
  {
   "cell_type": "code",
   "execution_count": 83,
   "metadata": {},
   "outputs": [],
   "source": [
    "project_id = projects['resources'][0]['id']"
   ]
  },
  {
   "cell_type": "code",
   "execution_count": 85,
   "metadata": {},
   "outputs": [
    {
     "data": {
      "text/plain": [
       "{'id': 'stable-diffusion',\n",
       " 'githubURI': 'https://github.com/XavierXiao/Dreambooth-Stable-Diffusion.git',\n",
       " 'modelName': 'Stable Diffusion',\n",
       " 'ptWeights': [{'name': 'v1-5-pruned.ckpt',\n",
       "   'path': 's3://elemeno-cos/models/genai/stable-diffusion/runwayml-stable-diffusion-v1-5/v1-5-pruned-emaonly.ckpt',\n",
       "   'supportedFineTuneMethods': ['dreambooth']}],\n",
       " 'license': {'type': 'CreativeML Open RAIL M',\n",
       "  'link': 'https://github.com/CompVis/stable-diffusion/blob/main/LICENSE'}}"
      ]
     },
     "execution_count": 85,
     "metadata": {},
     "output_type": "execute_result"
    }
   ],
   "source": [
    "models['resources'][0]"
   ]
  },
  {
   "cell_type": "code",
   "execution_count": 86,
   "metadata": {},
   "outputs": [],
   "source": [
    "model_cos_file = models['resources'][0]['ptWeights'][0]['path']"
   ]
  },
  {
   "cell_type": "code",
   "execution_count": 87,
   "metadata": {},
   "outputs": [
    {
     "data": {
      "text/plain": [
       "'s3://elemeno-cos/models/genai/stable-diffusion/runwayml-stable-diffusion-v1-5/v1-5-pruned-emaonly.ckpt'"
      ]
     },
     "execution_count": 87,
     "metadata": {},
     "output_type": "execute_result"
    }
   ],
   "source": [
    "model_cos_file"
   ]
  },
  {
   "cell_type": "code",
   "execution_count": 88,
   "metadata": {},
   "outputs": [
    {
     "data": {
      "text/plain": [
       "True"
      ]
     },
     "execution_count": 88,
     "metadata": {},
     "output_type": "execute_result"
    }
   ],
   "source": [
    "images_path = 'tests/genai/dev/maxresdefault.jpg'\n",
    "os.path.exists(images_path)"
   ]
  },
  {
   "cell_type": "code",
   "execution_count": 90,
   "metadata": {},
   "outputs": [
    {
     "data": {
      "text/plain": [
       "True"
      ]
     },
     "execution_count": 90,
     "metadata": {},
     "output_type": "execute_result"
    }
   ],
   "source": [
    "reg_images_path = 'tests/genai/dev/hqdefault.jpg'\n",
    "os.path.exists(reg_images_path)"
   ]
  },
  {
   "cell_type": "code",
   "execution_count": 94,
   "metadata": {},
   "outputs": [
    {
     "data": {
      "text/plain": [
       "'dreambooth-65176974eb094d57a99eed44'"
      ]
     },
     "execution_count": 94,
     "metadata": {},
     "output_type": "execute_result"
    }
   ],
   "source": [
    "client.fine_tune_dreambooth(      \n",
    "        project_id=project_id,\n",
    "        model_cos_file=model_cos_file,\n",
    "        job_name='new_job',\n",
    "        class_word='tractor',\n",
    "        images_path=images_path,\n",
    "        reg_images_path=reg_images_path\n",
    "    )"
   ]
  }
 ],
 "metadata": {
  "kernelspec": {
   "display_name": "env",
   "language": "python",
   "name": "python3"
  },
  "language_info": {
   "codemirror_mode": {
    "name": "ipython",
    "version": 3
   },
   "file_extension": ".py",
   "mimetype": "text/x-python",
   "name": "python",
   "nbconvert_exporter": "python",
   "pygments_lexer": "ipython3",
   "version": "3.9.17"
  },
  "orig_nbformat": 4
 },
 "nbformat": 4,
 "nbformat_minor": 2
}
