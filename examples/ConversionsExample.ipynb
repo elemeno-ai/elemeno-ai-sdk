{
 "cells": [
  {
   "cell_type": "code",
   "execution_count": null,
   "id": "be81ca17-dbf8-4d29-bd8a-2b1c9e563974",
   "metadata": {
    "tags": []
   },
   "outputs": [],
   "source": [
    "!pip install -e ."
   ]
  },
  {
   "cell_type": "code",
   "execution_count": null,
   "id": "57495676-5edc-435c-a001-7fd3813a4d80",
   "metadata": {},
   "outputs": [],
   "source": [
    "!pip install tensorflow tf2onnx"
   ]
  },
  {
   "cell_type": "code",
   "execution_count": null,
   "id": "eab355f8-c15b-41a0-82a1-04cdef0cd0f8",
   "metadata": {},
   "outputs": [],
   "source": [
    "base_dir = \"/home/jovyan/python-elemeno-ai-sdk/tests/conversion\""
   ]
  },
  {
   "cell_type": "markdown",
   "id": "fcbc9749-b67e-4cca-aff2-9645624e3e2e",
   "metadata": {},
   "source": [
    "### Example for converting tensorflow V2 models"
   ]
  },
  {
   "cell_type": "code",
   "execution_count": null,
   "id": "ab46be5b-89fb-4887-a1a3-980a24f2ce9b",
   "metadata": {},
   "outputs": [],
   "source": [
    "from elemeno_ai_sdk.models.conversion.tensorflow import TensorflowConverter\n",
    "\n",
    "c = TensorflowConverter()\n",
    "c.transform(f\"{base_dir}/tensorflow/mnist_classifier.h5\")"
   ]
  },
  {
   "cell_type": "markdown",
   "id": "0a9fd429-b739-477a-b469-037624be0f19",
   "metadata": {
    "tags": []
   },
   "source": [
    "### Example for converting tflite models"
   ]
  },
  {
   "cell_type": "code",
   "execution_count": null,
   "id": "4de84331-2fa1-411c-b7b3-b2a24d264397",
   "metadata": {},
   "outputs": [],
   "source": [
    "from elemeno_ai_sdk.models.conversion.tflite import TFLiteConverter\n",
    "\n",
    "c = TFLiteConverter()\n",
    "c.transform(f\"{base_dir}/tflite/lite-model_mobilebert_1_metadata_1.tflite\")"
   ]
  },
  {
   "cell_type": "markdown",
   "id": "f2ffe708-89f5-49a3-9c8e-98f85212f8bd",
   "metadata": {},
   "source": [
    "### Example for converting pytorch models"
   ]
  },
  {
   "cell_type": "code",
   "execution_count": null,
   "id": "e2e3ebee-6382-4973-b5f0-1adae210ba1b",
   "metadata": {},
   "outputs": [],
   "source": [
    "from elemeno_ai_sdk.models.conversion.torch import TorchConverter\n",
    "\n",
    "c = TorchConverter()\n",
    "c.transform_with_dims(f\"{base_dir}/torch/mnist_classifier.pt\",\n",
    "                      input_dims=(64, 1, 3, 3))\n"
   ]
  },
  {
   "cell_type": "markdown",
   "id": "6b0591fe-a55e-4f98-8c9f-4dfc7390bd0c",
   "metadata": {},
   "source": [
    "### Example for converting sklearn models"
   ]
  },
  {
   "cell_type": "code",
   "execution_count": null,
   "id": "a0e350f1-367b-430a-93b1-53d2f53467de",
   "metadata": {},
   "outputs": [],
   "source": [
    "!pip install scikit-learn skl2onnx"
   ]
  },
  {
   "cell_type": "code",
   "execution_count": null,
   "id": "f1f09353-2356-4ee6-bcb5-f6c9cbe7a43e",
   "metadata": {},
   "outputs": [],
   "source": [
    "from elemeno_ai_sdk.models.conversion.sklearn import SklearnConverter\n",
    "\n",
    "c = SklearnConverter()\n",
    "c.transform(f\"{base_dir}/sklearn/iris_classifier.pkl\")"
   ]
  },
  {
   "cell_type": "code",
   "execution_count": null,
   "id": "2e4a02ca-5e19-4fe6-af33-8db0e5504327",
   "metadata": {},
   "outputs": [],
   "source": []
  }
 ],
 "metadata": {
  "kernelspec": {
   "display_name": "Python 3 (ipykernel)",
   "language": "python",
   "name": "python3"
  },
  "language_info": {
   "codemirror_mode": {
    "name": "ipython",
    "version": 3
   },
   "file_extension": ".py",
   "mimetype": "text/x-python",
   "name": "python",
   "nbconvert_exporter": "python",
   "pygments_lexer": "ipython3",
   "version": "3.9.7"
  }
 },
 "nbformat": 4,
 "nbformat_minor": 5
}
