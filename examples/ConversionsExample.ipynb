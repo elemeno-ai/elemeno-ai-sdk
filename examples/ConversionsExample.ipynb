{
 "cells": [
  {
   "cell_type": "code",
   "execution_count": null,
   "id": "be81ca17-dbf8-4d29-bd8a-2b1c9e563974",
   "metadata": {
    "tags": []
   },
   "outputs": [],
   "source": [
    "!pip install -e ."
   ]
  },
  {
   "cell_type": "code",
   "execution_count": null,
   "id": "57495676-5edc-435c-a001-7fd3813a4d80",
   "metadata": {},
   "outputs": [],
   "source": [
    "!pip install tensorflow tf2onnx"
   ]
  },
  {
   "cell_type": "code",
   "execution_count": 1,
   "id": "eab355f8-c15b-41a0-82a1-04cdef0cd0f8",
   "metadata": {},
   "outputs": [],
   "source": [
    "base_dir = \"/home/jovyan/python-elemeno-ai-sdk/tests/conversion\""
   ]
  },
  {
   "cell_type": "markdown",
   "id": "fcbc9749-b67e-4cca-aff2-9645624e3e2e",
   "metadata": {},
   "source": [
    "### Example for converting tensorflow V2 models"
   ]
  },
  {
   "cell_type": "code",
   "execution_count": null,
   "id": "ab46be5b-89fb-4887-a1a3-980a24f2ce9b",
   "metadata": {},
   "outputs": [],
   "source": [
    "from elemeno_ai_sdk.models.conversion.tensorflow import TensorflowConverter\n",
    "\n",
    "c = TensorflowConverter()\n",
    "c.transform(f\"{base_dir}/tensorflow/mnist_classifier.h5\")"
   ]
  },
  {
   "cell_type": "markdown",
   "id": "0a9fd429-b739-477a-b469-037624be0f19",
   "metadata": {
    "tags": []
   },
   "source": [
    "### Example for converting tflite models"
   ]
  },
  {
   "cell_type": "code",
   "execution_count": null,
   "id": "4de84331-2fa1-411c-b7b3-b2a24d264397",
   "metadata": {},
   "outputs": [],
   "source": [
    "from elemeno_ai_sdk.models.conversion.tflite import TFLiteConverter\n",
    "\n",
    "c = TFLiteConverter()\n",
    "c.transform(f\"{base_dir}/tflite/lite-model_mobilebert_1_metadata_1.tflite\")"
   ]
  },
  {
   "cell_type": "markdown",
   "id": "f2ffe708-89f5-49a3-9c8e-98f85212f8bd",
   "metadata": {},
   "source": [
    "### Example for converting pytorch models"
   ]
  },
  {
   "cell_type": "code",
   "execution_count": 2,
   "id": "e2e3ebee-6382-4973-b5f0-1adae210ba1b",
   "metadata": {},
   "outputs": [
    {
     "name": "stdout",
     "output_type": "stream",
     "text": [
      "Log level set to WARNING\n",
      "graph(%input.1 : Float(64, 1, 3, 3, strides=[9, 9, 3, 1], requires_grad=0, device=cpu),\n",
      "      %fc.weight : Float(10, 512, strides=[512, 1], requires_grad=1, device=cpu),\n",
      "      %fc.bias : Float(10, strides=[1], requires_grad=1, device=cpu),\n",
      "      %194 : Float(64, 1, 3, 3, strides=[9, 9, 3, 1], requires_grad=0, device=cpu),\n",
      "      %195 : Float(64, strides=[1], requires_grad=0, device=cpu),\n",
      "      %197 : Float(64, 64, 3, 3, strides=[576, 9, 3, 1], requires_grad=0, device=cpu),\n",
      "      %198 : Float(64, strides=[1], requires_grad=0, device=cpu),\n",
      "      %200 : Float(64, 64, 3, 3, strides=[576, 9, 3, 1], requires_grad=0, device=cpu),\n",
      "      %201 : Float(64, strides=[1], requires_grad=0, device=cpu),\n",
      "      %203 : Float(64, 64, 3, 3, strides=[576, 9, 3, 1], requires_grad=0, device=cpu),\n",
      "      %204 : Float(64, strides=[1], requires_grad=0, device=cpu),\n",
      "      %206 : Float(64, 64, 3, 3, strides=[576, 9, 3, 1], requires_grad=0, device=cpu),\n",
      "      %207 : Float(64, strides=[1], requires_grad=0, device=cpu),\n",
      "      %209 : Float(128, 64, 3, 3, strides=[576, 9, 3, 1], requires_grad=0, device=cpu),\n",
      "      %210 : Float(128, strides=[1], requires_grad=0, device=cpu),\n",
      "      %212 : Float(128, 128, 3, 3, strides=[1152, 9, 3, 1], requires_grad=0, device=cpu),\n",
      "      %213 : Float(128, strides=[1], requires_grad=0, device=cpu),\n",
      "      %215 : Float(128, 64, 1, 1, strides=[64, 1, 1, 1], requires_grad=0, device=cpu),\n",
      "      %216 : Float(128, strides=[1], requires_grad=0, device=cpu),\n",
      "      %218 : Float(128, 128, 3, 3, strides=[1152, 9, 3, 1], requires_grad=0, device=cpu),\n",
      "      %219 : Float(128, strides=[1], requires_grad=0, device=cpu),\n",
      "      %221 : Float(128, 128, 3, 3, strides=[1152, 9, 3, 1], requires_grad=0, device=cpu),\n",
      "      %222 : Float(128, strides=[1], requires_grad=0, device=cpu),\n",
      "      %224 : Float(256, 128, 3, 3, strides=[1152, 9, 3, 1], requires_grad=0, device=cpu),\n",
      "      %225 : Float(256, strides=[1], requires_grad=0, device=cpu),\n",
      "      %227 : Float(256, 256, 3, 3, strides=[2304, 9, 3, 1], requires_grad=0, device=cpu),\n",
      "      %228 : Float(256, strides=[1], requires_grad=0, device=cpu),\n",
      "      %230 : Float(256, 128, 1, 1, strides=[128, 1, 1, 1], requires_grad=0, device=cpu),\n",
      "      %231 : Float(256, strides=[1], requires_grad=0, device=cpu),\n",
      "      %233 : Float(256, 256, 3, 3, strides=[2304, 9, 3, 1], requires_grad=0, device=cpu),\n",
      "      %234 : Float(256, strides=[1], requires_grad=0, device=cpu),\n",
      "      %236 : Float(256, 256, 3, 3, strides=[2304, 9, 3, 1], requires_grad=0, device=cpu),\n",
      "      %237 : Float(256, strides=[1], requires_grad=0, device=cpu),\n",
      "      %239 : Float(512, 256, 3, 3, strides=[2304, 9, 3, 1], requires_grad=0, device=cpu),\n",
      "      %240 : Float(512, strides=[1], requires_grad=0, device=cpu),\n",
      "      %242 : Float(512, 512, 3, 3, strides=[4608, 9, 3, 1], requires_grad=0, device=cpu),\n",
      "      %243 : Float(512, strides=[1], requires_grad=0, device=cpu),\n",
      "      %245 : Float(512, 256, 1, 1, strides=[256, 1, 1, 1], requires_grad=0, device=cpu),\n",
      "      %246 : Float(512, strides=[1], requires_grad=0, device=cpu),\n",
      "      %248 : Float(512, 512, 3, 3, strides=[4608, 9, 3, 1], requires_grad=0, device=cpu),\n",
      "      %249 : Float(512, strides=[1], requires_grad=0, device=cpu),\n",
      "      %251 : Float(512, 512, 3, 3, strides=[4608, 9, 3, 1], requires_grad=0, device=cpu),\n",
      "      %252 : Float(512, strides=[1], requires_grad=0, device=cpu)):\n",
      "  %193 : Float(64, 64, 1, 1, strides=[64, 1, 1, 1], requires_grad=1, device=cpu) = onnx::Conv[dilations=[1, 1], group=1, kernel_shape=[3, 3], pads=[0, 0, 0, 0], strides=[1, 1]](%input.1, %194, %195)\n",
      "  %126 : Float(64, 64, 1, 1, strides=[64, 1, 1, 1], requires_grad=1, device=cpu) = onnx::Relu(%193) # /opt/conda/lib/python3.9/site-packages/torch/nn/functional.py:1297:0\n",
      "  %127 : Float(64, 64, 1, 1, strides=[64, 1, 1, 1], requires_grad=1, device=cpu) = onnx::MaxPool[kernel_shape=[3, 3], pads=[1, 1, 1, 1], strides=[2, 2]](%126)\n",
      "  %196 : Float(64, 64, 1, 1, strides=[64, 1, 1, 1], requires_grad=1, device=cpu) = onnx::Conv[dilations=[1, 1], group=1, kernel_shape=[3, 3], pads=[1, 1, 1, 1], strides=[1, 1]](%127, %197, %198)\n",
      "  %130 : Float(64, 64, 1, 1, strides=[64, 1, 1, 1], requires_grad=1, device=cpu) = onnx::Relu(%196) # /opt/conda/lib/python3.9/site-packages/torch/nn/functional.py:1297:0\n",
      "  %199 : Float(64, 64, 1, 1, strides=[64, 1, 1, 1], requires_grad=1, device=cpu) = onnx::Conv[dilations=[1, 1], group=1, kernel_shape=[3, 3], pads=[1, 1, 1, 1], strides=[1, 1]](%130, %200, %201)\n",
      "  %133 : Float(64, 64, 1, 1, strides=[64, 1, 1, 1], requires_grad=1, device=cpu) = onnx::Add(%199, %127) # /opt/conda/lib/python3.9/site-packages/torchvision/models/resnet.py:80:0\n",
      "  %134 : Float(64, 64, 1, 1, strides=[64, 1, 1, 1], requires_grad=1, device=cpu) = onnx::Relu(%133)\n",
      "  %202 : Float(64, 64, 1, 1, strides=[64, 1, 1, 1], requires_grad=1, device=cpu) = onnx::Conv[dilations=[1, 1], group=1, kernel_shape=[3, 3], pads=[1, 1, 1, 1], strides=[1, 1]](%134, %203, %204)\n",
      "  %137 : Float(64, 64, 1, 1, strides=[64, 1, 1, 1], requires_grad=1, device=cpu) = onnx::Relu(%202) # /opt/conda/lib/python3.9/site-packages/torch/nn/functional.py:1297:0\n",
      "  %205 : Float(64, 64, 1, 1, strides=[64, 1, 1, 1], requires_grad=1, device=cpu) = onnx::Conv[dilations=[1, 1], group=1, kernel_shape=[3, 3], pads=[1, 1, 1, 1], strides=[1, 1]](%137, %206, %207)\n",
      "  %140 : Float(64, 64, 1, 1, strides=[64, 1, 1, 1], requires_grad=1, device=cpu) = onnx::Add(%205, %134) # /opt/conda/lib/python3.9/site-packages/torchvision/models/resnet.py:80:0\n",
      "  %141 : Float(64, 64, 1, 1, strides=[64, 1, 1, 1], requires_grad=1, device=cpu) = onnx::Relu(%140) # /opt/conda/lib/python3.9/site-packages/torch/nn/functional.py:1297:0\n",
      "  %208 : Float(64, 128, 1, 1, strides=[128, 1, 1, 1], requires_grad=1, device=cpu) = onnx::Conv[dilations=[1, 1], group=1, kernel_shape=[3, 3], pads=[1, 1, 1, 1], strides=[2, 2]](%141, %209, %210)\n",
      "  %144 : Float(64, 128, 1, 1, strides=[128, 1, 1, 1], requires_grad=1, device=cpu) = onnx::Relu(%208) # /opt/conda/lib/python3.9/site-packages/torch/nn/functional.py:1297:0\n",
      "  %211 : Float(64, 128, 1, 1, strides=[128, 1, 1, 1], requires_grad=1, device=cpu) = onnx::Conv[dilations=[1, 1], group=1, kernel_shape=[3, 3], pads=[1, 1, 1, 1], strides=[1, 1]](%144, %212, %213)\n",
      "  %214 : Float(64, 128, 1, 1, strides=[128, 1, 1, 1], requires_grad=1, device=cpu) = onnx::Conv[dilations=[1, 1], group=1, kernel_shape=[1, 1], pads=[0, 0, 0, 0], strides=[2, 2]](%141, %215, %216)\n",
      "  %149 : Float(64, 128, 1, 1, strides=[128, 1, 1, 1], requires_grad=1, device=cpu) = onnx::Add(%211, %214) # /opt/conda/lib/python3.9/site-packages/torchvision/models/resnet.py:80:0\n",
      "  %150 : Float(64, 128, 1, 1, strides=[128, 1, 1, 1], requires_grad=1, device=cpu) = onnx::Relu(%149)\n",
      "  %217 : Float(64, 128, 1, 1, strides=[128, 1, 1, 1], requires_grad=1, device=cpu) = onnx::Conv[dilations=[1, 1], group=1, kernel_shape=[3, 3], pads=[1, 1, 1, 1], strides=[1, 1]](%150, %218, %219)\n",
      "  %153 : Float(64, 128, 1, 1, strides=[128, 1, 1, 1], requires_grad=1, device=cpu) = onnx::Relu(%217) # /opt/conda/lib/python3.9/site-packages/torch/nn/functional.py:1297:0\n",
      "  %220 : Float(64, 128, 1, 1, strides=[128, 1, 1, 1], requires_grad=1, device=cpu) = onnx::Conv[dilations=[1, 1], group=1, kernel_shape=[3, 3], pads=[1, 1, 1, 1], strides=[1, 1]](%153, %221, %222)\n",
      "  %156 : Float(64, 128, 1, 1, strides=[128, 1, 1, 1], requires_grad=1, device=cpu) = onnx::Add(%220, %150) # /opt/conda/lib/python3.9/site-packages/torchvision/models/resnet.py:80:0\n",
      "  %157 : Float(64, 128, 1, 1, strides=[128, 1, 1, 1], requires_grad=1, device=cpu) = onnx::Relu(%156) # /opt/conda/lib/python3.9/site-packages/torch/nn/functional.py:1297:0\n",
      "  %223 : Float(64, 256, 1, 1, strides=[256, 1, 1, 1], requires_grad=1, device=cpu) = onnx::Conv[dilations=[1, 1], group=1, kernel_shape=[3, 3], pads=[1, 1, 1, 1], strides=[2, 2]](%157, %224, %225)\n",
      "  %160 : Float(64, 256, 1, 1, strides=[256, 1, 1, 1], requires_grad=1, device=cpu) = onnx::Relu(%223) # /opt/conda/lib/python3.9/site-packages/torch/nn/functional.py:1297:0\n",
      "  %226 : Float(64, 256, 1, 1, strides=[256, 1, 1, 1], requires_grad=1, device=cpu) = onnx::Conv[dilations=[1, 1], group=1, kernel_shape=[3, 3], pads=[1, 1, 1, 1], strides=[1, 1]](%160, %227, %228)\n",
      "  %229 : Float(64, 256, 1, 1, strides=[256, 1, 1, 1], requires_grad=1, device=cpu) = onnx::Conv[dilations=[1, 1], group=1, kernel_shape=[1, 1], pads=[0, 0, 0, 0], strides=[2, 2]](%157, %230, %231)\n",
      "  %165 : Float(64, 256, 1, 1, strides=[256, 1, 1, 1], requires_grad=1, device=cpu) = onnx::Add(%226, %229) # /opt/conda/lib/python3.9/site-packages/torchvision/models/resnet.py:80:0\n",
      "  %166 : Float(64, 256, 1, 1, strides=[256, 1, 1, 1], requires_grad=1, device=cpu) = onnx::Relu(%165)\n",
      "  %232 : Float(64, 256, 1, 1, strides=[256, 1, 1, 1], requires_grad=1, device=cpu) = onnx::Conv[dilations=[1, 1], group=1, kernel_shape=[3, 3], pads=[1, 1, 1, 1], strides=[1, 1]](%166, %233, %234)\n",
      "  %169 : Float(64, 256, 1, 1, strides=[256, 1, 1, 1], requires_grad=1, device=cpu) = onnx::Relu(%232) # /opt/conda/lib/python3.9/site-packages/torch/nn/functional.py:1297:0\n",
      "  %235 : Float(64, 256, 1, 1, strides=[256, 1, 1, 1], requires_grad=1, device=cpu) = onnx::Conv[dilations=[1, 1], group=1, kernel_shape=[3, 3], pads=[1, 1, 1, 1], strides=[1, 1]](%169, %236, %237)\n",
      "  %172 : Float(64, 256, 1, 1, strides=[256, 1, 1, 1], requires_grad=1, device=cpu) = onnx::Add(%235, %166) # /opt/conda/lib/python3.9/site-packages/torchvision/models/resnet.py:80:0\n",
      "  %173 : Float(64, 256, 1, 1, strides=[256, 1, 1, 1], requires_grad=1, device=cpu) = onnx::Relu(%172) # /opt/conda/lib/python3.9/site-packages/torch/nn/functional.py:1297:0\n",
      "  %238 : Float(64, 512, 1, 1, strides=[512, 1, 1, 1], requires_grad=1, device=cpu) = onnx::Conv[dilations=[1, 1], group=1, kernel_shape=[3, 3], pads=[1, 1, 1, 1], strides=[2, 2]](%173, %239, %240)\n",
      "  %176 : Float(64, 512, 1, 1, strides=[512, 1, 1, 1], requires_grad=1, device=cpu) = onnx::Relu(%238) # /opt/conda/lib/python3.9/site-packages/torch/nn/functional.py:1297:0\n",
      "  %241 : Float(64, 512, 1, 1, strides=[512, 1, 1, 1], requires_grad=1, device=cpu) = onnx::Conv[dilations=[1, 1], group=1, kernel_shape=[3, 3], pads=[1, 1, 1, 1], strides=[1, 1]](%176, %242, %243)\n",
      "  %244 : Float(64, 512, 1, 1, strides=[512, 1, 1, 1], requires_grad=1, device=cpu) = onnx::Conv[dilations=[1, 1], group=1, kernel_shape=[1, 1], pads=[0, 0, 0, 0], strides=[2, 2]](%173, %245, %246)\n",
      "  %181 : Float(64, 512, 1, 1, strides=[512, 1, 1, 1], requires_grad=1, device=cpu) = onnx::Add(%241, %244) # /opt/conda/lib/python3.9/site-packages/torchvision/models/resnet.py:80:0\n",
      "  %182 : Float(64, 512, 1, 1, strides=[512, 1, 1, 1], requires_grad=1, device=cpu) = onnx::Relu(%181)\n",
      "  %247 : Float(64, 512, 1, 1, strides=[512, 1, 1, 1], requires_grad=1, device=cpu) = onnx::Conv[dilations=[1, 1], group=1, kernel_shape=[3, 3], pads=[1, 1, 1, 1], strides=[1, 1]](%182, %248, %249)\n",
      "  %185 : Float(64, 512, 1, 1, strides=[512, 1, 1, 1], requires_grad=1, device=cpu) = onnx::Relu(%247) # /opt/conda/lib/python3.9/site-packages/torch/nn/functional.py:1297:0\n",
      "  %250 : Float(64, 512, 1, 1, strides=[512, 1, 1, 1], requires_grad=1, device=cpu) = onnx::Conv[dilations=[1, 1], group=1, kernel_shape=[3, 3], pads=[1, 1, 1, 1], strides=[1, 1]](%185, %251, %252)\n",
      "  %188 : Float(64, 512, 1, 1, strides=[512, 1, 1, 1], requires_grad=1, device=cpu) = onnx::Add(%250, %182) # /opt/conda/lib/python3.9/site-packages/torchvision/models/resnet.py:80:0\n",
      "  %189 : Float(64, 512, 1, 1, strides=[512, 1, 1, 1], requires_grad=1, device=cpu) = onnx::Relu(%188) # /opt/conda/lib/python3.9/site-packages/torch/nn/functional.py:1297:0\n",
      "  %190 : Float(64, 512, 1, 1, strides=[512, 1, 1, 1], requires_grad=1, device=cpu) = onnx::GlobalAveragePool(%189) # /opt/conda/lib/python3.9/site-packages/torch/nn/functional.py:1131:0\n",
      "  %191 : Float(64, 512, strides=[512, 1], requires_grad=1, device=cpu) = onnx::Flatten[axis=1](%190) # /opt/conda/lib/python3.9/site-packages/torchvision/models/resnet.py:243:0\n",
      "  %192 : Float(64, 10, strides=[10, 1], requires_grad=1, device=cpu) = onnx::Gemm[alpha=1., beta=1., transB=1](%191, %fc.weight, %fc.bias) # /opt/conda/lib/python3.9/site-packages/torch/nn/functional.py:1848:0\n",
      "  return (%192)\n",
      "\n"
     ]
    }
   ],
   "source": [
    "from elemeno_ai_sdk.models.conversion.torch import TorchConverter\n",
    "\n",
    "c = TorchConverter()\n",
    "c.transform_with_dims(f\"{base_dir}/torch/mnist_classifier.pt\",\n",
    "                      input_dims=(64, 1, 3, 3))\n"
   ]
  },
  {
   "cell_type": "code",
   "execution_count": null,
   "id": "7c7254bb-dbe5-4ea1-b38f-d7cfdf592645",
   "metadata": {},
   "outputs": [],
   "source": []
  }
 ],
 "metadata": {
  "kernelspec": {
   "display_name": "Python 3 (ipykernel)",
   "language": "python",
   "name": "python3"
  },
  "language_info": {
   "codemirror_mode": {
    "name": "ipython",
    "version": 3
   },
   "file_extension": ".py",
   "mimetype": "text/x-python",
   "name": "python",
   "nbconvert_exporter": "python",
   "pygments_lexer": "ipython3",
   "version": "3.9.7"
  }
 },
 "nbformat": 4,
 "nbformat_minor": 5
}
