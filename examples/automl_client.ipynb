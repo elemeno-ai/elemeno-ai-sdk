{
 "cells": [
  {
   "cell_type": "code",
   "execution_count": 1,
   "metadata": {},
   "outputs": [
    {
     "name": "stdout",
     "output_type": "stream",
     "text": [
      "Log level set to WARNING\n"
     ]
    }
   ],
   "source": [
    "from elemeno_ai_sdk.ml.automl.client import AutoMLClient"
   ]
  },
  {
   "cell_type": "code",
   "execution_count": 2,
   "metadata": {},
   "outputs": [],
   "source": [
    "API_KEY = \"ADD YOUR API KEY HERE\""
   ]
  },
  {
   "cell_type": "code",
   "execution_count": 3,
   "metadata": {},
   "outputs": [],
   "source": [
    "client = AutoMLClient(env=\"prod\", api_key=API_KEY)"
   ]
  },
  {
   "cell_type": "code",
   "execution_count": 4,
   "metadata": {},
   "outputs": [],
   "source": [
    "experiment_id = \"123\"\n",
    "feature_table_name = \"oneblinc_features_test\"\n",
    "id_column = \"user_id\"\n",
    "target_name = \"target\"\n",
    "start_date = \"2023-01-01\"\n",
    "end_date = \"2023-08-04\"\n",
    "task = \"classification\"\n",
    "scoring = \"ks\"\n",
    "num_features = 4\n",
    "generations = 1"
   ]
  },
  {
   "cell_type": "markdown",
   "metadata": {},
   "source": [
    "### List jobs"
   ]
  },
  {
   "cell_type": "code",
   "execution_count": 5,
   "metadata": {},
   "outputs": [],
   "source": [
    "job_list = await client.list_jobs()"
   ]
  },
  {
   "cell_type": "code",
   "execution_count": 6,
   "metadata": {},
   "outputs": [
    {
     "data": {
      "text/plain": [
       "{'resources': [{'id': '64cd429b8f341f9561c6de7f',\n",
       "   'featureTableName': 'oneblinc_features_test',\n",
       "   'generations': 1,\n",
       "   'idColumn': 'user_id',\n",
       "   'targetName': '123',\n",
       "   'startDate': '2023-01-01 00:00:00 +0000 UTC',\n",
       "   'updatedAt': '2023-08-04 18:25:31.724 +0000 UTC',\n",
       "   'endDate': '2023-08-04 00:00:00 +0000 UTC',\n",
       "   'task': '123',\n",
       "   'scoring': 'ks',\n",
       "   'numFeatures': 4,\n",
       "   'experimentID': '123'},\n",
       "  {'id': '64cd459f6f848e870f6c6aa7',\n",
       "   'featureTableName': 'oneblinc_features_test',\n",
       "   'generations': 1,\n",
       "   'idColumn': 'user_id',\n",
       "   'targetName': '123',\n",
       "   'startDate': '2023-01-01 00:00:00 +0000 UTC',\n",
       "   'updatedAt': '2023-08-04 18:38:23.639 +0000 UTC',\n",
       "   'endDate': '2023-08-04 00:00:00 +0000 UTC',\n",
       "   'task': '123',\n",
       "   'scoring': 'accuracy',\n",
       "   'numFeatures': 4,\n",
       "   'experimentID': '123'},\n",
       "  {'id': '64cd537d6f848e870f6c6aa8',\n",
       "   'featureTableName': 'oneblinc_features_test',\n",
       "   'generations': 1,\n",
       "   'idColumn': 'user_id',\n",
       "   'targetName': '123',\n",
       "   'startDate': '2023-01-01 00:00:00 +0000 UTC',\n",
       "   'updatedAt': '2023-08-04 19:37:33.853 +0000 UTC',\n",
       "   'endDate': '2023-08-04 00:00:00 +0000 UTC',\n",
       "   'task': '123',\n",
       "   'scoring': 'accuracy',\n",
       "   'numFeatures': 4,\n",
       "   'experimentID': '123'},\n",
       "  {'id': '64d2a6fdd6644dfb6566f204',\n",
       "   'featureTableName': 'oneblinc_features_test',\n",
       "   'generations': 1,\n",
       "   'idColumn': 'user_id',\n",
       "   'targetName': '123',\n",
       "   'startDate': '2023-01-01 00:00:00 +0000 UTC',\n",
       "   'updatedAt': '2023-08-08 20:35:09.653 +0000 UTC',\n",
       "   'endDate': '2023-08-04 00:00:00 +0000 UTC',\n",
       "   'task': '123',\n",
       "   'scoring': 'accuracy',\n",
       "   'numFeatures': 4,\n",
       "   'experimentID': '123'},\n",
       "  {'id': '64d2a9ded6644dfb6566f205',\n",
       "   'featureTableName': 'oneblinc_features_test',\n",
       "   'generations': 1,\n",
       "   'idColumn': 'user_id',\n",
       "   'targetName': '123',\n",
       "   'startDate': '2023-01-01 00:00:00 +0000 UTC',\n",
       "   'updatedAt': '2023-08-08 20:47:26.12 +0000 UTC',\n",
       "   'endDate': '2023-08-04 00:00:00 +0000 UTC',\n",
       "   'task': '123',\n",
       "   'scoring': 'accuracy',\n",
       "   'numFeatures': 4,\n",
       "   'experimentID': '123'},\n",
       "  {'id': '64d2b1a2d6644dfb6566f206',\n",
       "   'featureTableName': 'oneblinc_features_test',\n",
       "   'generations': 1,\n",
       "   'idColumn': 'user_id',\n",
       "   'targetName': '123',\n",
       "   'startDate': '2023-01-01 00:00:00 +0000 UTC',\n",
       "   'updatedAt': '2023-08-08 21:20:34.147 +0000 UTC',\n",
       "   'endDate': '2023-08-04 00:00:00 +0000 UTC',\n",
       "   'task': '123',\n",
       "   'scoring': 'ks',\n",
       "   'numFeatures': 4,\n",
       "   'experimentID': '123'},\n",
       "  {'id': '64d2bb7dd6644dfb6566f207',\n",
       "   'featureTableName': 'oneblinc_features_test',\n",
       "   'generations': 1,\n",
       "   'idColumn': 'user_id',\n",
       "   'targetName': '123',\n",
       "   'startDate': '2023-01-01 00:00:00 +0000 UTC',\n",
       "   'updatedAt': '2023-08-08 22:02:37.843 +0000 UTC',\n",
       "   'endDate': '2023-08-04 00:00:00 +0000 UTC',\n",
       "   'task': '123',\n",
       "   'scoring': 'ks',\n",
       "   'numFeatures': 4,\n",
       "   'experimentID': '123'},\n",
       "  {'id': '64d395166df75358cb6d7829',\n",
       "   'featureTableName': 'oneblinc_features_test',\n",
       "   'generations': 1,\n",
       "   'idColumn': 'user_id',\n",
       "   'targetName': '123',\n",
       "   'startDate': '2023-01-01 00:00:00 +0000 UTC',\n",
       "   'updatedAt': '2023-08-09 13:31:02.924 +0000 UTC',\n",
       "   'endDate': '2023-08-04 00:00:00 +0000 UTC',\n",
       "   'task': '123',\n",
       "   'scoring': 'ks',\n",
       "   'numFeatures': 4,\n",
       "   'experimentID': '123'},\n",
       "  {'id': '64d395336df75358cb6d782a',\n",
       "   'featureTableName': 'oneblinc_features_test',\n",
       "   'generations': 1,\n",
       "   'idColumn': 'user_id',\n",
       "   'targetName': '123',\n",
       "   'startDate': '2023-01-01 00:00:00 +0000 UTC',\n",
       "   'updatedAt': '2023-08-09 13:31:31.283 +0000 UTC',\n",
       "   'endDate': '2023-08-04 00:00:00 +0000 UTC',\n",
       "   'task': '123',\n",
       "   'scoring': 'ks',\n",
       "   'numFeatures': 4,\n",
       "   'experimentID': '123'},\n",
       "  {'id': '64d396826df75358cb6d782b',\n",
       "   'featureTableName': 'oneblinc_features_test',\n",
       "   'generations': 1,\n",
       "   'idColumn': 'user_id',\n",
       "   'targetName': '123',\n",
       "   'startDate': '2023-01-01 00:00:00 +0000 UTC',\n",
       "   'updatedAt': '2023-08-09 13:37:06.254 +0000 UTC',\n",
       "   'endDate': '2023-08-04 00:00:00 +0000 UTC',\n",
       "   'task': '123',\n",
       "   'scoring': 'ks',\n",
       "   'numFeatures': 4,\n",
       "   'experimentID': '123'}]}"
      ]
     },
     "execution_count": 6,
     "metadata": {},
     "output_type": "execute_result"
    }
   ],
   "source": [
    "job_list"
   ]
  },
  {
   "cell_type": "markdown",
   "metadata": {},
   "source": [
    "### Run Job"
   ]
  },
  {
   "cell_type": "code",
   "execution_count": 7,
   "metadata": {},
   "outputs": [],
   "source": [
    "result = await client.run_job(\n",
    "    experiment_id=experiment_id, \n",
    "    feature_table_name=feature_table_name, \n",
    "    id_column=id_column, \n",
    "    target_name=target_name, \n",
    "    start_date=start_date, \n",
    "    end_date=end_date, \n",
    "    task=task, \n",
    "    scoring=scoring, \n",
    "    num_features=num_features, \n",
    "    generations=generations\n",
    ")"
   ]
  },
  {
   "cell_type": "code",
   "execution_count": 8,
   "metadata": {},
   "outputs": [
    {
     "data": {
      "text/plain": [
       "{'id': '64d3a1a581131d789e100fde'}"
      ]
     },
     "execution_count": 8,
     "metadata": {},
     "output_type": "execute_result"
    }
   ],
   "source": [
    "result"
   ]
  },
  {
   "cell_type": "markdown",
   "metadata": {},
   "source": [
    "### Get job"
   ]
  },
  {
   "cell_type": "code",
   "execution_count": 9,
   "metadata": {},
   "outputs": [],
   "source": [
    "job_id = result[\"id\"]"
   ]
  },
  {
   "cell_type": "code",
   "execution_count": 10,
   "metadata": {},
   "outputs": [],
   "source": [
    "job = await client.get_job(job_id=\"64cd429b8f341f9561c6de7f\")"
   ]
  },
  {
   "cell_type": "code",
   "execution_count": 11,
   "metadata": {},
   "outputs": [
    {
     "data": {
      "text/plain": [
       "{'id': '64cd429b8f341f9561c6de7f',\n",
       " 'featureTableName': 'oneblinc_features_test',\n",
       " 'generations': 1,\n",
       " 'idColumn': 'user_id',\n",
       " 'status': 'RUNNING',\n",
       " 'artifactUri': 's3://mlflow/123/b470519af76c424b82cdc376e02e1aa3/artifacts',\n",
       " 'targetName': '123',\n",
       " 'startDate': '2023-01-01',\n",
       " 'endDate': '2023-08-04',\n",
       " 'task': '123',\n",
       " 'scoring': 'ks',\n",
       " 'numFeatures': 4,\n",
       " 'experimentID': '123'}"
      ]
     },
     "execution_count": 11,
     "metadata": {},
     "output_type": "execute_result"
    }
   ],
   "source": [
    "job"
   ]
  },
  {
   "cell_type": "code",
   "execution_count": null,
   "metadata": {},
   "outputs": [],
   "source": []
  }
 ],
 "metadata": {
  "kernelspec": {
   "display_name": "python-3.8.12",
   "language": "python",
   "name": "python3"
  },
  "language_info": {
   "codemirror_mode": {
    "name": "ipython",
    "version": 3
   },
   "file_extension": ".py",
   "mimetype": "text/x-python",
   "name": "python",
   "nbconvert_exporter": "python",
   "pygments_lexer": "ipython3",
   "version": "3.8.12"
  },
  "orig_nbformat": 4
 },
 "nbformat": 4,
 "nbformat_minor": 2
}
