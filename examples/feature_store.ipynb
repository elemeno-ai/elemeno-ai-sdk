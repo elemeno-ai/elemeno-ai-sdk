{
 "cells": [
  {
   "attachments": {},
   "cell_type": "markdown",
   "id": "94a51891-b325-4f0f-bf31-385c0e032020",
   "metadata": {},
   "source": [
    "# Feature store example\n",
    "---\n",
    "\n",
    "The idea of this notebook is to give a example on how we manage:\n",
    "- Transform raw data\n",
    "- Ingest data in a batch way\n",
    "- Retrieve data from the feature store."
   ]
  },
  {
   "attachments": {},
   "cell_type": "markdown",
   "id": "fa977ee9-e58e-4e2d-adbc-c529b1da24cd",
   "metadata": {},
   "source": [
    "### Importing packages"
   ]
  },
  {
   "cell_type": "code",
   "execution_count": 1,
   "id": "3212e840-b421-4fab-b333-c328115d6ab7",
   "metadata": {},
   "outputs": [],
   "source": [
    "%load_ext autoreload\n",
    "%autoreload 2"
   ]
  },
  {
   "cell_type": "code",
   "execution_count": 2,
   "id": "7b2308da-b3df-4cc2-aa8c-35fd989695d8",
   "metadata": {},
   "outputs": [
    {
     "name": "stdout",
     "output_type": "stream",
     "text": [
      "Log level set to WARNING\n"
     ]
    },
    {
     "name": "stderr",
     "output_type": "stream",
     "text": [
      "/Users/bruno/.pyenv/versions/elemeno-ai-sdk/lib/python3.10/site-packages/google/rpc/__init__.py:20: DeprecationWarning: Deprecated call to `pkg_resources.declare_namespace('google.rpc')`.\n",
      "Implementing implicit namespace packages (as specified in PEP 420) is preferred to `pkg_resources.declare_namespace`. See https://setuptools.pypa.io/en/latest/references/keywords.html#keyword-namespace-packages\n",
      "  pkg_resources.declare_namespace(__name__)\n",
      "/Users/bruno/.pyenv/versions/elemeno-ai-sdk/lib/python3.10/site-packages/pkg_resources/__init__.py:2349: DeprecationWarning: Deprecated call to `pkg_resources.declare_namespace('google')`.\n",
      "Implementing implicit namespace packages (as specified in PEP 420) is preferred to `pkg_resources.declare_namespace`. See https://setuptools.pypa.io/en/latest/references/keywords.html#keyword-namespace-packages\n",
      "  declare_namespace(parent)\n"
     ]
    }
   ],
   "source": [
    "import os\n",
    "import random\n",
    "from typing import List\n",
    "from datetime import datetime\n",
    "\n",
    "import feast\n",
    "import pandas as pd\n",
    "from elemeno_ai_sdk.ml.features.feature_store import FeatureStore\n",
    "from elemeno_ai_sdk.ml.features.feature_table import FeatureTable\n",
    "from elemeno_ai_sdk.ml.features.ingest.sink.ingestion_sink_builder import IngestionSinkType"
   ]
  },
  {
   "attachments": {},
   "cell_type": "markdown",
   "id": "809b811e-19ad-41c8-863b-7e93b19b513d",
   "metadata": {},
   "source": [
    "### Dataframe to ingest"
   ]
  },
  {
   "cell_type": "code",
   "execution_count": 3,
   "id": "3d17da9e-1f1a-43f9-9aad-dd25a9a4f9df",
   "metadata": {},
   "outputs": [],
   "source": [
    "FILE_PATH = \"./example_data/datasource.csv\"\n",
    "raw_data = pd.read_csv(FILE_PATH)"
   ]
  },
  {
   "cell_type": "code",
   "execution_count": 4,
   "id": "df531f02-6f28-4a23-92dc-966ddcb3570e",
   "metadata": {},
   "outputs": [
    {
     "data": {
      "text/html": [
       "<div>\n",
       "<style scoped>\n",
       "    .dataframe tbody tr th:only-of-type {\n",
       "        vertical-align: middle;\n",
       "    }\n",
       "\n",
       "    .dataframe tbody tr th {\n",
       "        vertical-align: top;\n",
       "    }\n",
       "\n",
       "    .dataframe thead th {\n",
       "        text-align: right;\n",
       "    }\n",
       "</style>\n",
       "<table border=\"1\" class=\"dataframe\">\n",
       "  <thead>\n",
       "    <tr style=\"text-align: right;\">\n",
       "      <th></th>\n",
       "      <th>sepal_length</th>\n",
       "      <th>sepal_width</th>\n",
       "      <th>petal_length</th>\n",
       "      <th>petal_width</th>\n",
       "      <th>id</th>\n",
       "      <th>target</th>\n",
       "      <th>created_timestamp</th>\n",
       "      <th>event_timestamp</th>\n",
       "    </tr>\n",
       "  </thead>\n",
       "  <tbody>\n",
       "    <tr>\n",
       "      <th>0</th>\n",
       "      <td>5.1</td>\n",
       "      <td>3.5</td>\n",
       "      <td>1.4</td>\n",
       "      <td>0.2</td>\n",
       "      <td>0</td>\n",
       "      <td>0</td>\n",
       "      <td>2022-07-14 18:08:05.487499</td>\n",
       "      <td>2022-07-14 18:08:05.488248</td>\n",
       "    </tr>\n",
       "    <tr>\n",
       "      <th>1</th>\n",
       "      <td>4.9</td>\n",
       "      <td>3.0</td>\n",
       "      <td>1.4</td>\n",
       "      <td>0.2</td>\n",
       "      <td>1</td>\n",
       "      <td>0</td>\n",
       "      <td>2022-07-14 18:08:05.487499</td>\n",
       "      <td>2022-07-14 18:08:05.488248</td>\n",
       "    </tr>\n",
       "    <tr>\n",
       "      <th>2</th>\n",
       "      <td>4.7</td>\n",
       "      <td>3.2</td>\n",
       "      <td>1.3</td>\n",
       "      <td>0.2</td>\n",
       "      <td>2</td>\n",
       "      <td>0</td>\n",
       "      <td>2022-07-14 18:08:05.487499</td>\n",
       "      <td>2022-07-14 18:08:05.488248</td>\n",
       "    </tr>\n",
       "    <tr>\n",
       "      <th>3</th>\n",
       "      <td>4.6</td>\n",
       "      <td>3.1</td>\n",
       "      <td>1.5</td>\n",
       "      <td>0.2</td>\n",
       "      <td>3</td>\n",
       "      <td>0</td>\n",
       "      <td>2022-07-14 18:08:05.487499</td>\n",
       "      <td>2022-07-14 18:08:05.488248</td>\n",
       "    </tr>\n",
       "    <tr>\n",
       "      <th>4</th>\n",
       "      <td>5.0</td>\n",
       "      <td>3.6</td>\n",
       "      <td>1.4</td>\n",
       "      <td>0.2</td>\n",
       "      <td>4</td>\n",
       "      <td>0</td>\n",
       "      <td>2022-07-14 18:08:05.487499</td>\n",
       "      <td>2022-07-14 18:08:05.488248</td>\n",
       "    </tr>\n",
       "  </tbody>\n",
       "</table>\n",
       "</div>"
      ],
      "text/plain": [
       "   sepal_length  sepal_width  petal_length  petal_width  id  target  \\\n",
       "0           5.1          3.5           1.4          0.2   0       0   \n",
       "1           4.9          3.0           1.4          0.2   1       0   \n",
       "2           4.7          3.2           1.3          0.2   2       0   \n",
       "3           4.6          3.1           1.5          0.2   3       0   \n",
       "4           5.0          3.6           1.4          0.2   4       0   \n",
       "\n",
       "            created_timestamp             event_timestamp  \n",
       "0  2022-07-14 18:08:05.487499  2022-07-14 18:08:05.488248  \n",
       "1  2022-07-14 18:08:05.487499  2022-07-14 18:08:05.488248  \n",
       "2  2022-07-14 18:08:05.487499  2022-07-14 18:08:05.488248  \n",
       "3  2022-07-14 18:08:05.487499  2022-07-14 18:08:05.488248  \n",
       "4  2022-07-14 18:08:05.487499  2022-07-14 18:08:05.488248  "
      ]
     },
     "execution_count": 4,
     "metadata": {},
     "output_type": "execute_result"
    }
   ],
   "source": [
    "raw_data.head()"
   ]
  },
  {
   "attachments": {},
   "cell_type": "markdown",
   "id": "af052c90-f445-4295-bc5f-b28f13327ea8",
   "metadata": {},
   "source": [
    "### Creating feature store"
   ]
  },
  {
   "attachments": {},
   "cell_type": "markdown",
   "id": "47587ab1-67cb-4884-b686-395a015b58b5",
   "metadata": {},
   "source": [
    "Instantiate the Feature Store object, since we are working with a csv file we do not need to pass a `source_type` into the constructor, we just need to pass the `sink_type` which in our case will be `REDSHIFT`."
   ]
  },
  {
   "cell_type": "code",
   "execution_count": 5,
   "id": "21a87f3d-eb95-45ff-9c9f-a1dd2c194f85",
   "metadata": {},
   "outputs": [
    {
     "name": "stderr",
     "output_type": "stream",
     "text": [
      "/Users/bruno/.pyenv/versions/elemeno-ai-sdk/lib/python3.10/site-packages/feast/repo_config.py:233: RuntimeWarning: `entity_key_serialization_version` is either not specified in the feature_store.yaml, or is specified to a value <= 1.This serialization version may cause errors when trying to write fields with the `Long` data type into the online store. Specifying `entity_key_serialization_version` to 2 is recommended for new projects. \n",
      "  warnings.warn(\n"
     ]
    }
   ],
   "source": [
    "feature_store = FeatureStore(\n",
    "    sink_type=IngestionSinkType.REDSHIFT\n",
    ")"
   ]
  },
  {
   "attachments": {},
   "cell_type": "markdown",
   "id": "ee7fbf69-523f-4c1b-b013-67a2b669ade5",
   "metadata": {},
   "source": [
    "Now we create a Feature Table object. First I parse the id and feature columns to feast `Entity` and `Feature` objects:"
   ]
  },
  {
   "cell_type": "code",
   "execution_count": 6,
   "id": "b8f11cd1-a25a-43cf-9de4-135af7e31cf6",
   "metadata": {},
   "outputs": [],
   "source": [
    "def get_entities(id_columns: List[str]) -> List[feast.Entity]:\n",
    "    return [feast.Entity(name=id_col) for id_col in id_columns] \n",
    "\n",
    "def get_features(feature_list: List[str]) -> List[feast.Feature]:\n",
    "    features = []\n",
    "    for feature in feature_list:\n",
    "        if feature == \"created_timestamp\" or feature == \"event_timestamp\":\n",
    "            dtype = feast.ValueType.BYTES\n",
    "        elif feature == \"target\":\n",
    "            dtype = feast.ValueType.INT32\n",
    "        else:\n",
    "            dtype = feast.ValueType.FLOAT\n",
    "        features.append(feast.Feature(name=feature, dtype=dtype))\n",
    "    return features"
   ]
  },
  {
   "cell_type": "code",
   "execution_count": 7,
   "id": "0705218d-833c-4561-9af0-d960d2029dc7",
   "metadata": {},
   "outputs": [],
   "source": [
    "FEATURE_TABLE_NAME = \"one_blinc_example\"\n",
    "FEATURES = [col for col in raw_data.columns if col != \"id\"]\n",
    "IDS = [\"id\"]"
   ]
  },
  {
   "cell_type": "code",
   "execution_count": 8,
   "id": "4f2e7de1-d147-463a-bb08-dd4b6bb7b0ee",
   "metadata": {},
   "outputs": [],
   "source": [
    "feature_table = FeatureTable(\n",
    "    name=FEATURE_TABLE_NAME,\n",
    "    feature_store=feature_store,\n",
    "    entities=get_entities(id_columns=IDS),\n",
    "    features=get_features(feature_list=FEATURES),\n",
    "    online=True\n",
    ")"
   ]
  },
  {
   "attachments": {},
   "cell_type": "markdown",
   "id": "ee8abe70-ccbe-4fcb-aaac-18bce0317699",
   "metadata": {},
   "source": [
    "### Ingest features"
   ]
  },
  {
   "attachments": {},
   "cell_type": "markdown",
   "id": "4472778f-b358-416f-a476-09908b0840c5",
   "metadata": {},
   "source": [
    "To ingest features we could call the `ingest` method or if we want to transform the features before ingest we call the `transform_and_ingest` method. We need to pass the `feature_table` we just created and the `dataframe` we want to save together with a list of python functions to transform the raw data. These transformations could be creating new features or just cleaning the data.\n",
    "\n",
    "We can also pass two more additional params, `renames` which will rename the features and `all_columns` which will filtered the features from your data source before sending to the feature store, for the purpose of our example we will leave it as ***None***"
   ]
  },
  {
   "cell_type": "markdown",
   "id": "08b0f52e-9aeb-45e6-89c5-8b7aeaea86ff",
   "metadata": {},
   "source": [
    "##### Feature engineering methods:"
   ]
  },
  {
   "cell_type": "code",
   "execution_count": 9,
   "id": "81295780-811a-41fc-9e6d-757de2f53cd5",
   "metadata": {},
   "outputs": [],
   "source": [
    "def add_columns(data: pd.DataFrame) -> pd.DataFrame:\n",
    "    data[\"feature_one\"] = data[\"sepal_length\"] + data[\"sepal_width\"] \n",
    "    return data\n",
    "\n",
    "def double_column(data: pd.DataFrame) -> pd.DataFrame:\n",
    "    data[\"feature_two\"] = data[\"sepal_length\"] * 2\n",
    "    return data \n",
    "\n",
    "def multiply_columns(data: pd.DataFrame) -> pd.DataFrame:\n",
    "    data[\"feature_three\"] = data[\"sepal_length\"] * data[\"sepal_width\"]\n",
    "    return data"
   ]
  },
  {
   "cell_type": "code",
   "execution_count": 10,
   "id": "b367d3c0-e1bd-4a15-9d92-9e4a722f4be9",
   "metadata": {},
   "outputs": [],
   "source": [
    "feature_store.transform_and_ingest(\n",
    "    ft=feature_table, \n",
    "    response=raw_data, \n",
    "    transformations=[add_columns, double_column, multiply_columns]\n",
    ")"
   ]
  },
  {
   "attachments": {},
   "cell_type": "markdown",
   "id": "98c697b9-7459-415f-907f-9fdbe6ce7265",
   "metadata": {},
   "source": [
    "### Retrieve features"
   ]
  },
  {
   "cell_type": "code",
   "execution_count": 11,
   "id": "6583ba6e-bc95-4f39-9345-3c0ee1fe4fb9",
   "metadata": {},
   "outputs": [
    {
     "name": "stderr",
     "output_type": "stream",
     "text": [
      "/Users/bruno/.pyenv/versions/elemeno-ai-sdk/lib/python3.10/site-packages/pandas/io/sql.py:1405: RemovedIn20Warning: Deprecated API features detected! These feature(s) are not compatible with SQLAlchemy 2.0. To prevent incompatible upgrades prior to updating applications, ensure requirements files are pinned to \"sqlalchemy<2.0\". Set environment variable SQLALCHEMY_WARN_20=1 to show all deprecation warnings.  Set environment variable SQLALCHEMY_SILENCE_UBER_WARNING=1 to silence this message. (Background on SQLAlchemy 2.0 at: https://sqlalche.me/e/b8d9)\n",
      "  return self.connectable.execution_options().execute(*args, **kwargs)\n"
     ]
    }
   ],
   "source": [
    "retrieved_data = feature_store.get_training_features(feature_table=feature_table)"
   ]
  },
  {
   "cell_type": "code",
   "execution_count": 12,
   "id": "3e6b7598-1c68-413a-9c56-f29b718aa32d",
   "metadata": {},
   "outputs": [
    {
     "data": {
      "text/html": [
       "<div>\n",
       "<style scoped>\n",
       "    .dataframe tbody tr th:only-of-type {\n",
       "        vertical-align: middle;\n",
       "    }\n",
       "\n",
       "    .dataframe tbody tr th {\n",
       "        vertical-align: top;\n",
       "    }\n",
       "\n",
       "    .dataframe thead th {\n",
       "        text-align: right;\n",
       "    }\n",
       "</style>\n",
       "<table border=\"1\" class=\"dataframe\">\n",
       "  <thead>\n",
       "    <tr style=\"text-align: right;\">\n",
       "      <th></th>\n",
       "      <th>sepal_length</th>\n",
       "      <th>sepal_width</th>\n",
       "      <th>petal_length</th>\n",
       "      <th>petal_width</th>\n",
       "      <th>id</th>\n",
       "      <th>target</th>\n",
       "      <th>created_timestamp</th>\n",
       "      <th>event_timestamp</th>\n",
       "      <th>feature_one</th>\n",
       "      <th>feature_two</th>\n",
       "      <th>feature_three</th>\n",
       "    </tr>\n",
       "  </thead>\n",
       "  <tbody>\n",
       "    <tr>\n",
       "      <th>82</th>\n",
       "      <td>5.8</td>\n",
       "      <td>2.7</td>\n",
       "      <td>3.9</td>\n",
       "      <td>1.2</td>\n",
       "      <td>82</td>\n",
       "      <td>1</td>\n",
       "      <td>2022-07-14 18:08:05.487499</td>\n",
       "      <td>2022-07-14 18:08:05.488248</td>\n",
       "      <td>8.5</td>\n",
       "      <td>11.6</td>\n",
       "      <td>15.66</td>\n",
       "    </tr>\n",
       "    <tr>\n",
       "      <th>81</th>\n",
       "      <td>5.5</td>\n",
       "      <td>2.4</td>\n",
       "      <td>3.7</td>\n",
       "      <td>1.0</td>\n",
       "      <td>81</td>\n",
       "      <td>1</td>\n",
       "      <td>2022-07-14 18:08:05.487499</td>\n",
       "      <td>2022-07-14 18:08:05.488248</td>\n",
       "      <td>7.9</td>\n",
       "      <td>11.0</td>\n",
       "      <td>13.20</td>\n",
       "    </tr>\n",
       "    <tr>\n",
       "      <th>80</th>\n",
       "      <td>5.5</td>\n",
       "      <td>2.4</td>\n",
       "      <td>3.8</td>\n",
       "      <td>1.1</td>\n",
       "      <td>80</td>\n",
       "      <td>1</td>\n",
       "      <td>2022-07-14 18:08:05.487499</td>\n",
       "      <td>2022-07-14 18:08:05.488248</td>\n",
       "      <td>7.9</td>\n",
       "      <td>11.0</td>\n",
       "      <td>13.20</td>\n",
       "    </tr>\n",
       "    <tr>\n",
       "      <th>79</th>\n",
       "      <td>5.7</td>\n",
       "      <td>2.6</td>\n",
       "      <td>3.5</td>\n",
       "      <td>1.0</td>\n",
       "      <td>79</td>\n",
       "      <td>1</td>\n",
       "      <td>2022-07-14 18:08:05.487499</td>\n",
       "      <td>2022-07-14 18:08:05.488248</td>\n",
       "      <td>8.3</td>\n",
       "      <td>11.4</td>\n",
       "      <td>14.82</td>\n",
       "    </tr>\n",
       "    <tr>\n",
       "      <th>78</th>\n",
       "      <td>6.0</td>\n",
       "      <td>2.9</td>\n",
       "      <td>4.5</td>\n",
       "      <td>1.5</td>\n",
       "      <td>78</td>\n",
       "      <td>1</td>\n",
       "      <td>2022-07-14 18:08:05.487499</td>\n",
       "      <td>2022-07-14 18:08:05.488248</td>\n",
       "      <td>8.9</td>\n",
       "      <td>12.0</td>\n",
       "      <td>17.40</td>\n",
       "    </tr>\n",
       "    <tr>\n",
       "      <th>...</th>\n",
       "      <td>...</td>\n",
       "      <td>...</td>\n",
       "      <td>...</td>\n",
       "      <td>...</td>\n",
       "      <td>...</td>\n",
       "      <td>...</td>\n",
       "      <td>...</td>\n",
       "      <td>...</td>\n",
       "      <td>...</td>\n",
       "      <td>...</td>\n",
       "      <td>...</td>\n",
       "    </tr>\n",
       "    <tr>\n",
       "      <th>146</th>\n",
       "      <td>6.3</td>\n",
       "      <td>2.5</td>\n",
       "      <td>5.0</td>\n",
       "      <td>1.9</td>\n",
       "      <td>146</td>\n",
       "      <td>2</td>\n",
       "      <td>2022-07-14 18:08:05.487499</td>\n",
       "      <td>2022-07-14 18:08:05.488248</td>\n",
       "      <td>8.8</td>\n",
       "      <td>12.6</td>\n",
       "      <td>15.75</td>\n",
       "    </tr>\n",
       "    <tr>\n",
       "      <th>145</th>\n",
       "      <td>6.7</td>\n",
       "      <td>3.0</td>\n",
       "      <td>5.2</td>\n",
       "      <td>2.3</td>\n",
       "      <td>145</td>\n",
       "      <td>2</td>\n",
       "      <td>2022-07-14 18:08:05.487499</td>\n",
       "      <td>2022-07-14 18:08:05.488248</td>\n",
       "      <td>9.7</td>\n",
       "      <td>13.4</td>\n",
       "      <td>20.10</td>\n",
       "    </tr>\n",
       "    <tr>\n",
       "      <th>144</th>\n",
       "      <td>6.7</td>\n",
       "      <td>3.3</td>\n",
       "      <td>5.7</td>\n",
       "      <td>2.5</td>\n",
       "      <td>144</td>\n",
       "      <td>2</td>\n",
       "      <td>2022-07-14 18:08:05.487499</td>\n",
       "      <td>2022-07-14 18:08:05.488248</td>\n",
       "      <td>10.0</td>\n",
       "      <td>13.4</td>\n",
       "      <td>22.11</td>\n",
       "    </tr>\n",
       "    <tr>\n",
       "      <th>143</th>\n",
       "      <td>6.8</td>\n",
       "      <td>3.2</td>\n",
       "      <td>5.9</td>\n",
       "      <td>2.3</td>\n",
       "      <td>143</td>\n",
       "      <td>2</td>\n",
       "      <td>2022-07-14 18:08:05.487499</td>\n",
       "      <td>2022-07-14 18:08:05.488248</td>\n",
       "      <td>10.0</td>\n",
       "      <td>13.6</td>\n",
       "      <td>21.76</td>\n",
       "    </tr>\n",
       "    <tr>\n",
       "      <th>449</th>\n",
       "      <td>5.9</td>\n",
       "      <td>3.0</td>\n",
       "      <td>5.1</td>\n",
       "      <td>1.8</td>\n",
       "      <td>149</td>\n",
       "      <td>2</td>\n",
       "      <td>2022-07-14 18:08:05.487499</td>\n",
       "      <td>2022-07-14 18:08:05.488248</td>\n",
       "      <td>8.9</td>\n",
       "      <td>11.8</td>\n",
       "      <td>17.70</td>\n",
       "    </tr>\n",
       "  </tbody>\n",
       "</table>\n",
       "<p>150 rows × 11 columns</p>\n",
       "</div>"
      ],
      "text/plain": [
       "     sepal_length  sepal_width  petal_length  petal_width   id  target  \\\n",
       "82            5.8          2.7           3.9          1.2   82       1   \n",
       "81            5.5          2.4           3.7          1.0   81       1   \n",
       "80            5.5          2.4           3.8          1.1   80       1   \n",
       "79            5.7          2.6           3.5          1.0   79       1   \n",
       "78            6.0          2.9           4.5          1.5   78       1   \n",
       "..            ...          ...           ...          ...  ...     ...   \n",
       "146           6.3          2.5           5.0          1.9  146       2   \n",
       "145           6.7          3.0           5.2          2.3  145       2   \n",
       "144           6.7          3.3           5.7          2.5  144       2   \n",
       "143           6.8          3.2           5.9          2.3  143       2   \n",
       "449           5.9          3.0           5.1          1.8  149       2   \n",
       "\n",
       "              created_timestamp             event_timestamp  feature_one  \\\n",
       "82   2022-07-14 18:08:05.487499  2022-07-14 18:08:05.488248          8.5   \n",
       "81   2022-07-14 18:08:05.487499  2022-07-14 18:08:05.488248          7.9   \n",
       "80   2022-07-14 18:08:05.487499  2022-07-14 18:08:05.488248          7.9   \n",
       "79   2022-07-14 18:08:05.487499  2022-07-14 18:08:05.488248          8.3   \n",
       "78   2022-07-14 18:08:05.487499  2022-07-14 18:08:05.488248          8.9   \n",
       "..                          ...                         ...          ...   \n",
       "146  2022-07-14 18:08:05.487499  2022-07-14 18:08:05.488248          8.8   \n",
       "145  2022-07-14 18:08:05.487499  2022-07-14 18:08:05.488248          9.7   \n",
       "144  2022-07-14 18:08:05.487499  2022-07-14 18:08:05.488248         10.0   \n",
       "143  2022-07-14 18:08:05.487499  2022-07-14 18:08:05.488248         10.0   \n",
       "449  2022-07-14 18:08:05.487499  2022-07-14 18:08:05.488248          8.9   \n",
       "\n",
       "     feature_two  feature_three  \n",
       "82          11.6          15.66  \n",
       "81          11.0          13.20  \n",
       "80          11.0          13.20  \n",
       "79          11.4          14.82  \n",
       "78          12.0          17.40  \n",
       "..           ...            ...  \n",
       "146         12.6          15.75  \n",
       "145         13.4          20.10  \n",
       "144         13.4          22.11  \n",
       "143         13.6          21.76  \n",
       "449         11.8          17.70  \n",
       "\n",
       "[150 rows x 11 columns]"
      ]
     },
     "execution_count": 12,
     "metadata": {},
     "output_type": "execute_result"
    }
   ],
   "source": [
    "retrieved_data"
   ]
  },
  {
   "attachments": {},
   "cell_type": "markdown",
   "id": "cdcf6354",
   "metadata": {},
   "source": []
  },
  {
   "cell_type": "code",
   "execution_count": null,
   "id": "e5c7b505-7ed5-45d0-bcdf-ff831ce6d454",
   "metadata": {},
   "outputs": [],
   "source": []
  }
 ],
 "metadata": {
  "kernelspec": {
   "display_name": "Python 3 (ipykernel)",
   "language": "python",
   "name": "python3"
  },
  "language_info": {
   "codemirror_mode": {
    "name": "ipython",
    "version": 3
   },
   "file_extension": ".py",
   "mimetype": "text/x-python",
   "name": "python",
   "nbconvert_exporter": "python",
   "pygments_lexer": "ipython3",
   "version": "3.10.10"
  }
 },
 "nbformat": 4,
 "nbformat_minor": 5
}
