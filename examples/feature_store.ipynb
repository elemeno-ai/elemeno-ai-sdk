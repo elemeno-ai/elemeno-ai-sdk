{
 "cells": [
  {
   "cell_type": "markdown",
   "id": "94a51891-b325-4f0f-bf31-385c0e032020",
   "metadata": {},
   "source": [
    "# Feature store example\n",
    "---\n",
    "\n",
    "The idea of this notebook is to give a simple example on how we manage to ingest and retrieve data from the feature store in a batch way."
   ]
  },
  {
   "cell_type": "markdown",
   "id": "fa977ee9-e58e-4e2d-adbc-c529b1da24cd",
   "metadata": {},
   "source": [
    "### Importing packages"
   ]
  },
  {
   "cell_type": "code",
   "execution_count": 1,
   "id": "3212e840-b421-4fab-b333-c328115d6ab7",
   "metadata": {},
   "outputs": [],
   "source": [
    "%load_ext autoreload\n",
    "%autoreload 2"
   ]
  },
  {
   "cell_type": "code",
   "execution_count": 3,
   "id": "7b2308da-b3df-4cc2-aa8c-35fd989695d8",
   "metadata": {},
   "outputs": [],
   "source": [
    "from elemeno_ai_sdk.ml.features.feature_store import FeatureStore\n",
    "from elemeno_ai_sdk.ml.features.feature_table import FeatureTable\n",
    "from elemeno_ai_sdk.ml.features.ingest.sink.ingestion_sink_builder import IngestionSinkType, FileIngestionSinkType\n",
    "from elemeno_ai_sdk.ml.features.ingest.source.ingestion_source_builder import IngestionSourceType\n",
    "from elemeno_ai_sdk.ml.features.types import FeatureType\n",
    "from elemeno_ai_sdk.ml.features.ingest.source.base_source import ReadResponse\n",
    "import pandas as pd\n",
    "import feast\n",
    "from typing import List\n",
    "import os"
   ]
  },
  {
   "cell_type": "markdown",
   "id": "28851371-dc3c-43fe-9e07-012dc8ca475a",
   "metadata": {},
   "source": [
    "### Auxiliary functions"
   ]
  },
  {
   "cell_type": "code",
   "execution_count": 4,
   "id": "7ae839fb-8c22-49e0-832f-c557779c8e2a",
   "metadata": {},
   "outputs": [],
   "source": [
    "def prepare_response(file_path: str) -> ReadResponse: \n",
    "    data = pd.read_csv(file_path)\n",
    "    return ReadResponse(data)\n",
    "\n",
    "def get_entities(id_columns: List[str]):\n",
    "    return [feast.Entity(name=_id) for _id in id_columns] \n",
    "\n",
    "def get_features(feature_list: List[str]):\n",
    "     return [feast.Feature(name=feature, dtype=feast.ValueType.FLOAT) for feature in FEATURES]"
   ]
  },
  {
   "cell_type": "markdown",
   "id": "809b811e-19ad-41c8-863b-7e93b19b513d",
   "metadata": {},
   "source": [
    "### Dataframe to ingest"
   ]
  },
  {
   "cell_type": "code",
   "execution_count": 5,
   "id": "3d17da9e-1f1a-43f9-9aad-dd25a9a4f9df",
   "metadata": {},
   "outputs": [],
   "source": [
    "response = prepare_response(file_path=\"./data/datasource.csv\")"
   ]
  },
  {
   "cell_type": "code",
   "execution_count": 6,
   "id": "df531f02-6f28-4a23-92dc-966ddcb3570e",
   "metadata": {},
   "outputs": [
    {
     "data": {
      "text/html": [
       "<div>\n",
       "<style scoped>\n",
       "    .dataframe tbody tr th:only-of-type {\n",
       "        vertical-align: middle;\n",
       "    }\n",
       "\n",
       "    .dataframe tbody tr th {\n",
       "        vertical-align: top;\n",
       "    }\n",
       "\n",
       "    .dataframe thead th {\n",
       "        text-align: right;\n",
       "    }\n",
       "</style>\n",
       "<table border=\"1\" class=\"dataframe\">\n",
       "  <thead>\n",
       "    <tr style=\"text-align: right;\">\n",
       "      <th></th>\n",
       "      <th>sepal_length</th>\n",
       "      <th>sepal_width</th>\n",
       "      <th>petal_length</th>\n",
       "      <th>petal_width</th>\n",
       "      <th>id</th>\n",
       "      <th>target</th>\n",
       "      <th>created_timestamp</th>\n",
       "      <th>event_timestamp</th>\n",
       "    </tr>\n",
       "  </thead>\n",
       "  <tbody>\n",
       "    <tr>\n",
       "      <th>0</th>\n",
       "      <td>5.1</td>\n",
       "      <td>3.5</td>\n",
       "      <td>1.4</td>\n",
       "      <td>0.2</td>\n",
       "      <td>0</td>\n",
       "      <td>0</td>\n",
       "      <td>2022-07-14 18:08:05.487499</td>\n",
       "      <td>2022-07-14 18:08:05.488248</td>\n",
       "    </tr>\n",
       "    <tr>\n",
       "      <th>1</th>\n",
       "      <td>4.9</td>\n",
       "      <td>3.0</td>\n",
       "      <td>1.4</td>\n",
       "      <td>0.2</td>\n",
       "      <td>1</td>\n",
       "      <td>0</td>\n",
       "      <td>2022-07-14 18:08:05.487499</td>\n",
       "      <td>2022-07-14 18:08:05.488248</td>\n",
       "    </tr>\n",
       "    <tr>\n",
       "      <th>2</th>\n",
       "      <td>4.7</td>\n",
       "      <td>3.2</td>\n",
       "      <td>1.3</td>\n",
       "      <td>0.2</td>\n",
       "      <td>2</td>\n",
       "      <td>0</td>\n",
       "      <td>2022-07-14 18:08:05.487499</td>\n",
       "      <td>2022-07-14 18:08:05.488248</td>\n",
       "    </tr>\n",
       "    <tr>\n",
       "      <th>3</th>\n",
       "      <td>4.6</td>\n",
       "      <td>3.1</td>\n",
       "      <td>1.5</td>\n",
       "      <td>0.2</td>\n",
       "      <td>3</td>\n",
       "      <td>0</td>\n",
       "      <td>2022-07-14 18:08:05.487499</td>\n",
       "      <td>2022-07-14 18:08:05.488248</td>\n",
       "    </tr>\n",
       "    <tr>\n",
       "      <th>4</th>\n",
       "      <td>5.0</td>\n",
       "      <td>3.6</td>\n",
       "      <td>1.4</td>\n",
       "      <td>0.2</td>\n",
       "      <td>4</td>\n",
       "      <td>0</td>\n",
       "      <td>2022-07-14 18:08:05.487499</td>\n",
       "      <td>2022-07-14 18:08:05.488248</td>\n",
       "    </tr>\n",
       "  </tbody>\n",
       "</table>\n",
       "</div>"
      ],
      "text/plain": [
       "   sepal_length  sepal_width  petal_length  petal_width  id  target  \\\n",
       "0           5.1          3.5           1.4          0.2   0       0   \n",
       "1           4.9          3.0           1.4          0.2   1       0   \n",
       "2           4.7          3.2           1.3          0.2   2       0   \n",
       "3           4.6          3.1           1.5          0.2   3       0   \n",
       "4           5.0          3.6           1.4          0.2   4       0   \n",
       "\n",
       "            created_timestamp             event_timestamp  \n",
       "0  2022-07-14 18:08:05.487499  2022-07-14 18:08:05.488248  \n",
       "1  2022-07-14 18:08:05.487499  2022-07-14 18:08:05.488248  \n",
       "2  2022-07-14 18:08:05.487499  2022-07-14 18:08:05.488248  \n",
       "3  2022-07-14 18:08:05.487499  2022-07-14 18:08:05.488248  \n",
       "4  2022-07-14 18:08:05.487499  2022-07-14 18:08:05.488248  "
      ]
     },
     "execution_count": 6,
     "metadata": {},
     "output_type": "execute_result"
    }
   ],
   "source": [
    "response.dataframe.head()"
   ]
  },
  {
   "cell_type": "markdown",
   "id": "af052c90-f445-4295-bc5f-b28f13327ea8",
   "metadata": {},
   "source": [
    "### Creating feature store"
   ]
  },
  {
   "cell_type": "code",
   "execution_count": null,
   "id": "21a87f3d-eb95-45ff-9c9f-a1dd2c194f85",
   "metadata": {},
   "outputs": [],
   "source": [
    "feature_store = FeatureStore(\n",
    "    sink_type=IngestionSinkType.REDSHIFT, \n",
    "    source_type=IngestionSourceType.REDSHIFT\n",
    ")"
   ]
  },
  {
   "cell_type": "code",
   "execution_count": null,
   "id": "0705218d-833c-4561-9af0-d960d2029dc7",
   "metadata": {},
   "outputs": [],
   "source": [
    "FEATURES = ['sepal_length', 'sepal_width', 'petal_length', 'petal_width']\n",
    "IDS = [\"id\"]\n",
    "\n",
    "entities = get_entities(id_columns=IDS)\n",
    "features = get_features(feature_list=FEATURES)"
   ]
  },
  {
   "cell_type": "code",
   "execution_count": null,
   "id": "4f2e7de1-d147-463a-bb08-dd4b6bb7b0ee",
   "metadata": {},
   "outputs": [],
   "source": [
    "feature_table = FeatureTable(\n",
    "    name=\"one_blinc_fs\",\n",
    "    feature_store=feature_store,\n",
    "    entities=entities,\n",
    "    features=features\n",
    ")"
   ]
  },
  {
   "cell_type": "markdown",
   "id": "ee8abe70-ccbe-4fcb-aaac-18bce0317699",
   "metadata": {},
   "source": [
    "### Ingest features"
   ]
  },
  {
   "cell_type": "code",
   "execution_count": null,
   "id": "94092087-a52e-4b92-819e-9af31c302530",
   "metadata": {},
   "outputs": [],
   "source": [
    "feature_store.ingest_response(feature_table=feature_table, to_ingest=response)"
   ]
  },
  {
   "cell_type": "markdown",
   "id": "98c697b9-7459-415f-907f-9fdbe6ce7265",
   "metadata": {},
   "source": [
    "### Retrieve features"
   ]
  },
  {
   "cell_type": "code",
   "execution_count": 7,
   "id": "6583ba6e-bc95-4f39-9345-3c0ee1fe4fb9",
   "metadata": {},
   "outputs": [
    {
     "ename": "NameError",
     "evalue": "name 'feature_store' is not defined",
     "output_type": "error",
     "traceback": [
      "\u001b[0;31m---------------------------------------------------------------------------\u001b[0m",
      "\u001b[0;31mNameError\u001b[0m                                 Traceback (most recent call last)",
      "Cell \u001b[0;32mIn[7], line 1\u001b[0m\n\u001b[0;32m----> 1\u001b[0m retrieved_data \u001b[38;5;241m=\u001b[39m \u001b[43mfeature_store\u001b[49m\u001b[38;5;241m.\u001b[39mget_training_features(feature_table\u001b[38;5;241m=\u001b[39mfeature_table)\n",
      "\u001b[0;31mNameError\u001b[0m: name 'feature_store' is not defined"
     ]
    }
   ],
   "source": [
    "retrieved_data = feature_store.get_training_features(feature_table=feature_table)"
   ]
  },
  {
   "cell_type": "code",
   "execution_count": null,
   "id": "3e6b7598-1c68-413a-9c56-f29b718aa32d",
   "metadata": {},
   "outputs": [],
   "source": []
  }
 ],
 "metadata": {
  "kernelspec": {
   "display_name": "Python 3 (ipykernel)",
   "language": "python",
   "name": "python3"
  },
  "language_info": {
   "codemirror_mode": {
    "name": "ipython",
    "version": 3
   },
   "file_extension": ".py",
   "mimetype": "text/x-python",
   "name": "python",
   "nbconvert_exporter": "python",
   "pygments_lexer": "ipython3",
   "version": "3.10.10"
  }
 },
 "nbformat": 4,
 "nbformat_minor": 5
}
