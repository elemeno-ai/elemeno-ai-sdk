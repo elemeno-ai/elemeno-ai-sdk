{
 "cells": [
  {
   "cell_type": "markdown",
   "id": "94a51891-b325-4f0f-bf31-385c0e032020",
   "metadata": {},
   "source": [
    "# Feature store example\n",
    "---\n",
    "\n",
    "The idea of this notebook is to give a example on how we manage:\n",
    "- Ingest data in a batch way\n",
    "- Retrieve data from the feature store for training and inference mode."
   ]
  },
  {
   "cell_type": "markdown",
   "id": "fa977ee9-e58e-4e2d-adbc-c529b1da24cd",
   "metadata": {},
   "source": [
    "### Importing packages"
   ]
  },
  {
   "cell_type": "code",
   "execution_count": null,
   "id": "3212e840-b421-4fab-b333-c328115d6ab7",
   "metadata": {},
   "outputs": [],
   "source": [
    "%load_ext autoreload\n",
    "%autoreload 2"
   ]
  },
  {
   "cell_type": "code",
   "execution_count": null,
   "id": "7b2308da-b3df-4cc2-aa8c-35fd989695d8",
   "metadata": {},
   "outputs": [],
   "source": [
    "import os\n",
    "import random\n",
    "from typing import List\n",
    "from datetime import datetime\n",
    "\n",
    "import feast\n",
    "import pandas as pd\n",
    "from elemeno_ai_sdk.ml.features.feature_store import FeatureStore\n",
    "from elemeno_ai_sdk.ml.features.feature_table import FeatureTable\n",
    "from elemeno_ai_sdk.ml.features.ingest.sink.ingestion_sink_builder import IngestionSinkType"
   ]
  },
  {
   "cell_type": "code",
   "execution_count": null,
   "id": "6b5f8936-3a1b-455e-bd57-f3060960a68f",
   "metadata": {},
   "outputs": [],
   "source": [
    "os.environ[\"AWS_ACCESS_KEY_ID\"] = \"insert your access key id here\"\n",
    "os.environ[\"AWS_SECRET_ACCESS_KEY\"] = \"insert your secret access key here\""
   ]
  },
  {
   "cell_type": "markdown",
   "id": "809b811e-19ad-41c8-863b-7e93b19b513d",
   "metadata": {},
   "source": [
    "### Dataframe to ingest"
   ]
  },
  {
   "cell_type": "code",
   "execution_count": null,
   "id": "3d17da9e-1f1a-43f9-9aad-dd25a9a4f9df",
   "metadata": {},
   "outputs": [],
   "source": [
    "FILE_PATH = \"./example_data/datasource.csv\"\n",
    "data = pd.read_csv(FILE_PATH)"
   ]
  },
  {
   "cell_type": "code",
   "execution_count": null,
   "id": "df531f02-6f28-4a23-92dc-966ddcb3570e",
   "metadata": {},
   "outputs": [],
   "source": [
    "data.head()"
   ]
  },
  {
   "cell_type": "markdown",
   "id": "af052c90-f445-4295-bc5f-b28f13327ea8",
   "metadata": {},
   "source": [
    "### Creating feature store"
   ]
  },
  {
   "cell_type": "markdown",
   "id": "47587ab1-67cb-4884-b686-395a015b58b5",
   "metadata": {},
   "source": [
    "Instantiate the Feature Store object, since we are working with a csv file we do not need to pass a `source_type` into the constructor, we just need to pass the `sink_type` which in our case will be `REDSHIFT`."
   ]
  },
  {
   "cell_type": "code",
   "execution_count": null,
   "id": "21a87f3d-eb95-45ff-9c9f-a1dd2c194f85",
   "metadata": {},
   "outputs": [],
   "source": [
    "feature_store = FeatureStore(\n",
    "    sink_type=IngestionSinkType.REDSHIFT\n",
    ")"
   ]
  },
  {
   "cell_type": "markdown",
   "id": "ee7fbf69-523f-4c1b-b013-67a2b669ade5",
   "metadata": {},
   "source": [
    "Now we create a Feature Table object. First I parse the id and feature columns to feast `Entity` and `Feature` objects:"
   ]
  },
  {
   "cell_type": "code",
   "execution_count": null,
   "id": "b8f11cd1-a25a-43cf-9de4-135af7e31cf6",
   "metadata": {},
   "outputs": [],
   "source": [
    "def get_entities(id_columns: List[str]) -> List[feast.Entity]:\n",
    "    return [feast.Entity(name=id_col) for id_col in id_columns] \n",
    "\n",
    "def get_features(feature_list: List[str]) -> List[feast.Feature]:\n",
    "    features = []\n",
    "    for feature in feature_list:\n",
    "        if feature == \"created_timestamp\" or feature == \"event_timestamp\":\n",
    "            dtype = feast.ValueType.BYTES\n",
    "        elif feature == \"target\":\n",
    "            dtype = feast.ValueType.INT32\n",
    "        else:\n",
    "            dtype = feast.ValueType.FLOAT\n",
    "        features.append(feast.Feature(name=feature, dtype=dtype))\n",
    "    return features"
   ]
  },
  {
   "cell_type": "code",
   "execution_count": null,
   "id": "0705218d-833c-4561-9af0-d960d2029dc7",
   "metadata": {},
   "outputs": [],
   "source": [
    "FEATURE_TABLE_NAME = \"one_blinc_ft\"\n",
    "FEATURES = [col for col in data.columns if col != \"id\"]\n",
    "IDS = [\"id\"]"
   ]
  },
  {
   "cell_type": "code",
   "execution_count": null,
   "id": "4f2e7de1-d147-463a-bb08-dd4b6bb7b0ee",
   "metadata": {},
   "outputs": [],
   "source": [
    "feature_table = FeatureTable(\n",
    "    name=FEATURE_TABLE_NAME,\n",
    "    feature_store=feature_store,\n",
    "    entities=get_entities(id_columns=IDS),\n",
    "    features=get_features(feature_list=FEATURES),\n",
    "    online=True\n",
    ")"
   ]
  },
  {
   "cell_type": "markdown",
   "id": "ee8abe70-ccbe-4fcb-aaac-18bce0317699",
   "metadata": {},
   "source": [
    "### Ingest features"
   ]
  },
  {
   "cell_type": "markdown",
   "id": "4472778f-b358-416f-a476-09908b0840c5",
   "metadata": {},
   "source": [
    "To ingest features we call the `ingest` method and we need to pass the `feature_table` we just created and the `dataframe` we want to save. \n",
    "\n",
    "We can also pass two more additional params, `renames` which will rename the features and `all_columns` which will filtered the features from your data source before sending to the feature store, for the purpose of our example we will leave it as ***None***"
   ]
  },
  {
   "cell_type": "code",
   "execution_count": null,
   "id": "94092087-a52e-4b92-819e-9af31c302530",
   "metadata": {},
   "outputs": [],
   "source": [
    "feature_store.ingest(\n",
    "    feature_table=feature_table, \n",
    "    to_ingest=data, \n",
    "    renames=None, \n",
    "    all_columns=None\n",
    ")"
   ]
  },
  {
   "cell_type": "markdown",
   "id": "98c697b9-7459-415f-907f-9fdbe6ce7265",
   "metadata": {},
   "source": [
    "### Retrieve features"
   ]
  },
  {
   "cell_type": "code",
   "execution_count": null,
   "id": "6583ba6e-bc95-4f39-9345-3c0ee1fe4fb9",
   "metadata": {},
   "outputs": [],
   "source": [
    "retrieved_data = feature_store.get_training_features(feature_table=feature_table)"
   ]
  },
  {
   "cell_type": "code",
   "execution_count": null,
   "id": "3e6b7598-1c68-413a-9c56-f29b718aa32d",
   "metadata": {},
   "outputs": [],
   "source": [
    "retrieved_data"
   ]
  },
  {
   "cell_type": "code",
   "execution_count": null,
   "id": "e5c7b505-7ed5-45d0-bcdf-ff831ce6d454",
   "metadata": {},
   "outputs": [],
   "source": []
  }
 ],
 "metadata": {
  "kernelspec": {
   "display_name": "Python 3 (ipykernel)",
   "language": "python",
   "name": "python3"
  },
  "language_info": {
   "codemirror_mode": {
    "name": "ipython",
    "version": 3
   },
   "file_extension": ".py",
   "mimetype": "text/x-python",
   "name": "python",
   "nbconvert_exporter": "python",
   "pygments_lexer": "ipython3",
   "version": "3.10.10"
  }
 },
 "nbformat": 4,
 "nbformat_minor": 5
}
